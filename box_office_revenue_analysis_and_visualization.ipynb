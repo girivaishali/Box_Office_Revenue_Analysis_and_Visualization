{
 "cells": [
  {
   "cell_type": "markdown",
   "execution_count": null,
   "metadata": {
    "papermill": {
     "duration": 0.02079,
     "end_time": "2020-08-24T06:52:50.437924",
     "exception": false,
     "start_time": "2020-08-24T06:52:50.417134",
     "status": "completed"
    },
    "tags": []
   },
   "source": [
    "## <font color='red'><center> Don't forget to upvote if you like it! :) </center></font>"
   ]
  },
  {
   "cell_type": "markdown",
   "execution_count": null,
   "metadata": {
    "_cell_guid": "79c7e3d0-c299-4dcb-8224-4455121ee9b0",
    "_uuid": "d629ff2d2480ee46fbb7e2d37f6b5fab8052498a",
    "collapsed": true,
    "papermill": {
     "duration": 0.016405,
     "end_time": "2020-08-24T06:52:50.471532",
     "exception": false,
     "start_time": "2020-08-24T06:52:50.455127",
     "status": "completed"
    },
    "tags": []
   },
   "source": [
    "# Box Office Revenue Analysis and Visualization"
   ]
  },
  {
   "cell_type": "markdown",
   "execution_count": null,
   "metadata": {
    "papermill": {
     "duration": 0.01626,
     "end_time": "2020-08-24T06:52:50.504289",
     "exception": false,
     "start_time": "2020-08-24T06:52:50.488029",
     "status": "completed"
    },
    "tags": []
   },
   "source": [
    "![](https://news.tfw2005.com/wp-content/uploads/sites/10/2018/12/boxofficeearnings-Transformers-Bumblebee.jpg)"
   ]
  },
  {
   "cell_type": "markdown",
   "execution_count": null,
   "metadata": {
    "papermill": {
     "duration": 0.015822,
     "end_time": "2020-08-24T06:52:50.536397",
     "exception": false,
     "start_time": "2020-08-24T06:52:50.520575",
     "status": "completed"
    },
    "tags": []
   },
   "source": [
    "# Introduction"
   ]
  },
  {
   "cell_type": "markdown",
   "execution_count": null,
   "metadata": {
    "papermill": {
     "duration": 0.016031,
     "end_time": "2020-08-24T06:52:50.568670",
     "exception": false,
     "start_time": "2020-08-24T06:52:50.552639",
     "status": "completed"
    },
    "tags": []
   },
   "source": [
    "In a world… where movies made an estimated $41.7 billion in 2018, the film industry is more popular than ever. But what movies make the most money at the box office? How much does a director matter? Or the budget? For some movies, it's \"You had me at 'Hello.'\" For others, the trailer falls short of expectations and you think \"What we have here is a failure to communicate.\"\n",
    "\n",
    "In this kernel I am going to answer some of the questions."
   ]
  },
  {
   "cell_type": "markdown",
   "execution_count": null,
   "metadata": {
    "papermill": {
     "duration": 0.016015,
     "end_time": "2020-08-24T06:52:50.601041",
     "exception": false,
     "start_time": "2020-08-24T06:52:50.585026",
     "status": "completed"
    },
    "tags": []
   },
   "source": [
    "## Import required libraries"
   ]
  },
  {
   "cell_type": "code",
   "execution_count": 1,
   "metadata": {
    "execution": {
     "iopub.execute_input": "2020-08-24T06:52:50.645221Z",
     "iopub.status.busy": "2020-08-24T06:52:50.643177Z",
     "iopub.status.idle": "2020-08-24T06:52:51.783695Z",
     "shell.execute_reply": "2020-08-24T06:52:51.784257Z"
    },
    "papermill": {
     "duration": 1.166809,
     "end_time": "2020-08-24T06:52:51.784435",
     "exception": false,
     "start_time": "2020-08-24T06:52:50.617626",
     "status": "completed"
    },
    "tags": []
   },
   "outputs": [
    {
     "name": "stdout",
     "output_type": "stream",
     "text": [
      "/kaggle/input/tmdb-box-office-prediction/train.csv\n",
      "/kaggle/input/tmdb-box-office-prediction/test.csv\n",
      "/kaggle/input/tmdb-box-office-prediction/sample_submission.csv\n"
     ]
    }
   ],
   "source": [
    "import pandas as pd\n",
    "import numpy as np\n",
    "\n",
    "# for visualizations\n",
    "import matplotlib.pyplot as plt\n",
    "import seaborn as sns\n",
    "\n",
    "%matplotlib inline\n",
    "plt.style.use('dark_background')\n",
    "\n",
    "# display multiple output in single cell\n",
    "from IPython.display import display\n",
    "from IPython.core.interactiveshell import InteractiveShell\n",
    "InteractiveShell.ast_node_interactivity = \"all\"\n",
    "\n",
    "# data\n",
    "import os\n",
    "for dirname, _, filenames in os.walk('/kaggle/input'):\n",
    "    for filename in filenames:\n",
    "        print(os.path.join(dirname, filename))"
   ]
  },
  {
   "cell_type": "markdown",
   "execution_count": null,
   "metadata": {
    "papermill": {
     "duration": 0.01074,
     "end_time": "2020-08-24T06:52:51.806567",
     "exception": false,
     "start_time": "2020-08-24T06:52:51.795827",
     "status": "completed"
    },
    "tags": []
   },
   "source": [
    "## Data Loading and Exploration"
   ]
  },
  {
   "cell_type": "markdown",
   "execution_count": null,
   "metadata": {
    "papermill": {
     "duration": 0.010221,
     "end_time": "2020-08-24T06:52:51.827503",
     "exception": false,
     "start_time": "2020-08-24T06:52:51.817282",
     "status": "completed"
    },
    "tags": []
   },
   "source": [
    "#### Let's add only train data for now because my main goal for this notebook is to perform data analysis task and not a submisison."
   ]
  },
  {
   "cell_type": "code",
   "execution_count": 2,
   "metadata": {
    "execution": {
     "iopub.execute_input": "2020-08-24T06:52:51.858386Z",
     "iopub.status.busy": "2020-08-24T06:52:51.857516Z",
     "iopub.status.idle": "2020-08-24T06:52:52.145006Z",
     "shell.execute_reply": "2020-08-24T06:52:52.144239Z"
    },
    "papermill": {
     "duration": 0.306901,
     "end_time": "2020-08-24T06:52:52.145167",
     "exception": false,
     "start_time": "2020-08-24T06:52:51.838266",
     "status": "completed"
    },
    "tags": []
   },
   "outputs": [
    {
     "name": "stdout",
     "output_type": "stream",
     "text": [
      "CPU times: user 235 ms, sys: 36.9 ms, total: 272 ms\n",
      "Wall time: 286 ms\n"
     ]
    }
   ],
   "source": [
    "%time train = pd.read_csv('../input/tmdb-box-office-prediction/train.csv')"
   ]
  },
  {
   "cell_type": "markdown",
   "execution_count": null,
   "metadata": {
    "papermill": {
     "duration": 0.011492,
     "end_time": "2020-08-24T06:52:52.168275",
     "exception": false,
     "start_time": "2020-08-24T06:52:52.156783",
     "status": "completed"
    },
    "tags": []
   },
   "source": [
    "#### Let's have a look at sample data."
   ]
  },
  {
   "cell_type": "code",
   "execution_count": 3,
   "metadata": {
    "execution": {
     "iopub.execute_input": "2020-08-24T06:52:52.221818Z",
     "iopub.status.busy": "2020-08-24T06:52:52.198538Z",
     "iopub.status.idle": "2020-08-24T06:52:52.249334Z",
     "shell.execute_reply": "2020-08-24T06:52:52.249835Z"
    },
    "papermill": {
     "duration": 0.070727,
     "end_time": "2020-08-24T06:52:52.250025",
     "exception": false,
     "start_time": "2020-08-24T06:52:52.179298",
     "status": "completed"
    },
    "tags": []
   },
   "outputs": [
    {
     "data": {
      "text/html": [
       "<div>\n",
       "<style scoped>\n",
       "    .dataframe tbody tr th:only-of-type {\n",
       "        vertical-align: middle;\n",
       "    }\n",
       "\n",
       "    .dataframe tbody tr th {\n",
       "        vertical-align: top;\n",
       "    }\n",
       "\n",
       "    .dataframe thead th {\n",
       "        text-align: right;\n",
       "    }\n",
       "</style>\n",
       "<table border=\"1\" class=\"dataframe\">\n",
       "  <thead>\n",
       "    <tr style=\"text-align: right;\">\n",
       "      <th></th>\n",
       "      <th>id</th>\n",
       "      <th>belongs_to_collection</th>\n",
       "      <th>budget</th>\n",
       "      <th>genres</th>\n",
       "      <th>homepage</th>\n",
       "      <th>imdb_id</th>\n",
       "      <th>original_language</th>\n",
       "      <th>original_title</th>\n",
       "      <th>overview</th>\n",
       "      <th>popularity</th>\n",
       "      <th>...</th>\n",
       "      <th>release_date</th>\n",
       "      <th>runtime</th>\n",
       "      <th>spoken_languages</th>\n",
       "      <th>status</th>\n",
       "      <th>tagline</th>\n",
       "      <th>title</th>\n",
       "      <th>Keywords</th>\n",
       "      <th>cast</th>\n",
       "      <th>crew</th>\n",
       "      <th>revenue</th>\n",
       "    </tr>\n",
       "  </thead>\n",
       "  <tbody>\n",
       "    <tr>\n",
       "      <th>0</th>\n",
       "      <td>1</td>\n",
       "      <td>[{'id': 313576, 'name': 'Hot Tub Time Machine ...</td>\n",
       "      <td>14000000</td>\n",
       "      <td>[{'id': 35, 'name': 'Comedy'}]</td>\n",
       "      <td>NaN</td>\n",
       "      <td>tt2637294</td>\n",
       "      <td>en</td>\n",
       "      <td>Hot Tub Time Machine 2</td>\n",
       "      <td>When Lou, who has become the \"father of the In...</td>\n",
       "      <td>6.575393</td>\n",
       "      <td>...</td>\n",
       "      <td>2/20/15</td>\n",
       "      <td>93.0</td>\n",
       "      <td>[{'iso_639_1': 'en', 'name': 'English'}]</td>\n",
       "      <td>Released</td>\n",
       "      <td>The Laws of Space and Time are About to be Vio...</td>\n",
       "      <td>Hot Tub Time Machine 2</td>\n",
       "      <td>[{'id': 4379, 'name': 'time travel'}, {'id': 9...</td>\n",
       "      <td>[{'cast_id': 4, 'character': 'Lou', 'credit_id...</td>\n",
       "      <td>[{'credit_id': '59ac067c92514107af02c8c8', 'de...</td>\n",
       "      <td>12314651</td>\n",
       "    </tr>\n",
       "    <tr>\n",
       "      <th>1</th>\n",
       "      <td>2</td>\n",
       "      <td>[{'id': 107674, 'name': 'The Princess Diaries ...</td>\n",
       "      <td>40000000</td>\n",
       "      <td>[{'id': 35, 'name': 'Comedy'}, {'id': 18, 'nam...</td>\n",
       "      <td>NaN</td>\n",
       "      <td>tt0368933</td>\n",
       "      <td>en</td>\n",
       "      <td>The Princess Diaries 2: Royal Engagement</td>\n",
       "      <td>Mia Thermopolis is now a college graduate and ...</td>\n",
       "      <td>8.248895</td>\n",
       "      <td>...</td>\n",
       "      <td>8/6/04</td>\n",
       "      <td>113.0</td>\n",
       "      <td>[{'iso_639_1': 'en', 'name': 'English'}]</td>\n",
       "      <td>Released</td>\n",
       "      <td>It can take a lifetime to find true love; she'...</td>\n",
       "      <td>The Princess Diaries 2: Royal Engagement</td>\n",
       "      <td>[{'id': 2505, 'name': 'coronation'}, {'id': 42...</td>\n",
       "      <td>[{'cast_id': 1, 'character': 'Mia Thermopolis'...</td>\n",
       "      <td>[{'credit_id': '52fe43fe9251416c7502563d', 'de...</td>\n",
       "      <td>95149435</td>\n",
       "    </tr>\n",
       "    <tr>\n",
       "      <th>2</th>\n",
       "      <td>3</td>\n",
       "      <td>NaN</td>\n",
       "      <td>3300000</td>\n",
       "      <td>[{'id': 18, 'name': 'Drama'}]</td>\n",
       "      <td>http://sonyclassics.com/whiplash/</td>\n",
       "      <td>tt2582802</td>\n",
       "      <td>en</td>\n",
       "      <td>Whiplash</td>\n",
       "      <td>Under the direction of a ruthless instructor, ...</td>\n",
       "      <td>64.299990</td>\n",
       "      <td>...</td>\n",
       "      <td>10/10/14</td>\n",
       "      <td>105.0</td>\n",
       "      <td>[{'iso_639_1': 'en', 'name': 'English'}]</td>\n",
       "      <td>Released</td>\n",
       "      <td>The road to greatness can take you to the edge.</td>\n",
       "      <td>Whiplash</td>\n",
       "      <td>[{'id': 1416, 'name': 'jazz'}, {'id': 1523, 'n...</td>\n",
       "      <td>[{'cast_id': 5, 'character': 'Andrew Neimann',...</td>\n",
       "      <td>[{'credit_id': '54d5356ec3a3683ba0000039', 'de...</td>\n",
       "      <td>13092000</td>\n",
       "    </tr>\n",
       "    <tr>\n",
       "      <th>3</th>\n",
       "      <td>4</td>\n",
       "      <td>NaN</td>\n",
       "      <td>1200000</td>\n",
       "      <td>[{'id': 53, 'name': 'Thriller'}, {'id': 18, 'n...</td>\n",
       "      <td>http://kahaanithefilm.com/</td>\n",
       "      <td>tt1821480</td>\n",
       "      <td>hi</td>\n",
       "      <td>Kahaani</td>\n",
       "      <td>Vidya Bagchi (Vidya Balan) arrives in Kolkata ...</td>\n",
       "      <td>3.174936</td>\n",
       "      <td>...</td>\n",
       "      <td>3/9/12</td>\n",
       "      <td>122.0</td>\n",
       "      <td>[{'iso_639_1': 'en', 'name': 'English'}, {'iso...</td>\n",
       "      <td>Released</td>\n",
       "      <td>NaN</td>\n",
       "      <td>Kahaani</td>\n",
       "      <td>[{'id': 10092, 'name': 'mystery'}, {'id': 1054...</td>\n",
       "      <td>[{'cast_id': 1, 'character': 'Vidya Bagchi', '...</td>\n",
       "      <td>[{'credit_id': '52fe48779251416c9108d6eb', 'de...</td>\n",
       "      <td>16000000</td>\n",
       "    </tr>\n",
       "    <tr>\n",
       "      <th>4</th>\n",
       "      <td>5</td>\n",
       "      <td>NaN</td>\n",
       "      <td>0</td>\n",
       "      <td>[{'id': 28, 'name': 'Action'}, {'id': 53, 'nam...</td>\n",
       "      <td>NaN</td>\n",
       "      <td>tt1380152</td>\n",
       "      <td>ko</td>\n",
       "      <td>마린보이</td>\n",
       "      <td>Marine Boy is the story of a former national s...</td>\n",
       "      <td>1.148070</td>\n",
       "      <td>...</td>\n",
       "      <td>2/5/09</td>\n",
       "      <td>118.0</td>\n",
       "      <td>[{'iso_639_1': 'ko', 'name': '한국어/조선말'}]</td>\n",
       "      <td>Released</td>\n",
       "      <td>NaN</td>\n",
       "      <td>Marine Boy</td>\n",
       "      <td>NaN</td>\n",
       "      <td>[{'cast_id': 3, 'character': 'Chun-soo', 'cred...</td>\n",
       "      <td>[{'credit_id': '52fe464b9251416c75073b43', 'de...</td>\n",
       "      <td>3923970</td>\n",
       "    </tr>\n",
       "    <tr>\n",
       "      <th>5</th>\n",
       "      <td>6</td>\n",
       "      <td>NaN</td>\n",
       "      <td>8000000</td>\n",
       "      <td>[{'id': 16, 'name': 'Animation'}, {'id': 12, '...</td>\n",
       "      <td>NaN</td>\n",
       "      <td>tt0093743</td>\n",
       "      <td>en</td>\n",
       "      <td>Pinocchio and the Emperor of the Night</td>\n",
       "      <td>Pinocchio and his friends, a glow worm and a m...</td>\n",
       "      <td>0.743274</td>\n",
       "      <td>...</td>\n",
       "      <td>8/6/87</td>\n",
       "      <td>83.0</td>\n",
       "      <td>[{'iso_639_1': 'en', 'name': 'English'}]</td>\n",
       "      <td>Released</td>\n",
       "      <td>NaN</td>\n",
       "      <td>Pinocchio and the Emperor of the Night</td>\n",
       "      <td>NaN</td>\n",
       "      <td>[{'cast_id': 6, 'character': 'Pinocchio (voice...</td>\n",
       "      <td>[{'credit_id': '52fe46f49251416c9106558b', 'de...</td>\n",
       "      <td>3261638</td>\n",
       "    </tr>\n",
       "    <tr>\n",
       "      <th>6</th>\n",
       "      <td>7</td>\n",
       "      <td>NaN</td>\n",
       "      <td>14000000</td>\n",
       "      <td>[{'id': 27, 'name': 'Horror'}, {'id': 53, 'nam...</td>\n",
       "      <td>http://www.thepossessionmovie.com/</td>\n",
       "      <td>tt0431021</td>\n",
       "      <td>en</td>\n",
       "      <td>The Possession</td>\n",
       "      <td>A young girl buys an antique box at a yard sal...</td>\n",
       "      <td>7.286477</td>\n",
       "      <td>...</td>\n",
       "      <td>8/30/12</td>\n",
       "      <td>92.0</td>\n",
       "      <td>[{'iso_639_1': 'en', 'name': 'English'}]</td>\n",
       "      <td>Released</td>\n",
       "      <td>Fear The Demon That Doesn't Fear God</td>\n",
       "      <td>The Possession</td>\n",
       "      <td>NaN</td>\n",
       "      <td>[{'cast_id': 23, 'character': 'Clyde', 'credit...</td>\n",
       "      <td>[{'credit_id': '52fe4981c3a368484e12ee29', 'de...</td>\n",
       "      <td>85446075</td>\n",
       "    </tr>\n",
       "    <tr>\n",
       "      <th>7</th>\n",
       "      <td>8</td>\n",
       "      <td>NaN</td>\n",
       "      <td>0</td>\n",
       "      <td>[{'id': 99, 'name': 'Documentary'}]</td>\n",
       "      <td>NaN</td>\n",
       "      <td>tt0391024</td>\n",
       "      <td>en</td>\n",
       "      <td>Control Room</td>\n",
       "      <td>A chronicle which provides a rare window into ...</td>\n",
       "      <td>1.949044</td>\n",
       "      <td>...</td>\n",
       "      <td>1/15/04</td>\n",
       "      <td>84.0</td>\n",
       "      <td>[{'iso_639_1': 'ar', 'name': 'العربية'}, {'iso...</td>\n",
       "      <td>Released</td>\n",
       "      <td>Different channels. Different truths.</td>\n",
       "      <td>Control Room</td>\n",
       "      <td>[{'id': 917, 'name': 'journalism'}, {'id': 163...</td>\n",
       "      <td>[{'cast_id': 2, 'character': 'Himself', 'credi...</td>\n",
       "      <td>[{'credit_id': '52fe47a69251416c750a0daf', 'de...</td>\n",
       "      <td>2586511</td>\n",
       "    </tr>\n",
       "    <tr>\n",
       "      <th>8</th>\n",
       "      <td>9</td>\n",
       "      <td>[{'id': 256377, 'name': 'The Muppet Collection...</td>\n",
       "      <td>0</td>\n",
       "      <td>[{'id': 28, 'name': 'Action'}, {'id': 35, 'nam...</td>\n",
       "      <td>NaN</td>\n",
       "      <td>tt0117110</td>\n",
       "      <td>en</td>\n",
       "      <td>Muppet Treasure Island</td>\n",
       "      <td>After telling the story of Flint's last journe...</td>\n",
       "      <td>6.902423</td>\n",
       "      <td>...</td>\n",
       "      <td>2/16/96</td>\n",
       "      <td>100.0</td>\n",
       "      <td>[{'iso_639_1': 'en', 'name': 'English'}]</td>\n",
       "      <td>Released</td>\n",
       "      <td>Set sail for Muppet mayhem!</td>\n",
       "      <td>Muppet Treasure Island</td>\n",
       "      <td>[{'id': 2041, 'name': 'island'}, {'id': 4418, ...</td>\n",
       "      <td>[{'cast_id': 1, 'character': 'Long John Silver...</td>\n",
       "      <td>[{'credit_id': '52fe43c89251416c7501deb3', 'de...</td>\n",
       "      <td>34327391</td>\n",
       "    </tr>\n",
       "    <tr>\n",
       "      <th>9</th>\n",
       "      <td>10</td>\n",
       "      <td>NaN</td>\n",
       "      <td>6000000</td>\n",
       "      <td>[{'id': 35, 'name': 'Comedy'}, {'id': 10402, '...</td>\n",
       "      <td>NaN</td>\n",
       "      <td>tt0310281</td>\n",
       "      <td>en</td>\n",
       "      <td>A Mighty Wind</td>\n",
       "      <td>In \"A Mighty Wind\", director Christopher Guest...</td>\n",
       "      <td>4.672036</td>\n",
       "      <td>...</td>\n",
       "      <td>4/16/03</td>\n",
       "      <td>91.0</td>\n",
       "      <td>[{'iso_639_1': 'en', 'name': 'English'}]</td>\n",
       "      <td>Released</td>\n",
       "      <td>Back together for the first time, again.</td>\n",
       "      <td>A Mighty Wind</td>\n",
       "      <td>[{'id': 11800, 'name': 'mockumentary'}, {'id':...</td>\n",
       "      <td>[{'cast_id': 24, 'character': 'Jonathan Steinb...</td>\n",
       "      <td>[{'credit_id': '52fe45609251416c750545b3', 'de...</td>\n",
       "      <td>18750246</td>\n",
       "    </tr>\n",
       "  </tbody>\n",
       "</table>\n",
       "<p>10 rows × 23 columns</p>\n",
       "</div>"
      ],
      "text/plain": [
       "   id                              belongs_to_collection    budget  \\\n",
       "0   1  [{'id': 313576, 'name': 'Hot Tub Time Machine ...  14000000   \n",
       "1   2  [{'id': 107674, 'name': 'The Princess Diaries ...  40000000   \n",
       "2   3                                                NaN   3300000   \n",
       "3   4                                                NaN   1200000   \n",
       "4   5                                                NaN         0   \n",
       "5   6                                                NaN   8000000   \n",
       "6   7                                                NaN  14000000   \n",
       "7   8                                                NaN         0   \n",
       "8   9  [{'id': 256377, 'name': 'The Muppet Collection...         0   \n",
       "9  10                                                NaN   6000000   \n",
       "\n",
       "                                              genres  \\\n",
       "0                     [{'id': 35, 'name': 'Comedy'}]   \n",
       "1  [{'id': 35, 'name': 'Comedy'}, {'id': 18, 'nam...   \n",
       "2                      [{'id': 18, 'name': 'Drama'}]   \n",
       "3  [{'id': 53, 'name': 'Thriller'}, {'id': 18, 'n...   \n",
       "4  [{'id': 28, 'name': 'Action'}, {'id': 53, 'nam...   \n",
       "5  [{'id': 16, 'name': 'Animation'}, {'id': 12, '...   \n",
       "6  [{'id': 27, 'name': 'Horror'}, {'id': 53, 'nam...   \n",
       "7                [{'id': 99, 'name': 'Documentary'}]   \n",
       "8  [{'id': 28, 'name': 'Action'}, {'id': 35, 'nam...   \n",
       "9  [{'id': 35, 'name': 'Comedy'}, {'id': 10402, '...   \n",
       "\n",
       "                             homepage    imdb_id original_language  \\\n",
       "0                                 NaN  tt2637294                en   \n",
       "1                                 NaN  tt0368933                en   \n",
       "2   http://sonyclassics.com/whiplash/  tt2582802                en   \n",
       "3          http://kahaanithefilm.com/  tt1821480                hi   \n",
       "4                                 NaN  tt1380152                ko   \n",
       "5                                 NaN  tt0093743                en   \n",
       "6  http://www.thepossessionmovie.com/  tt0431021                en   \n",
       "7                                 NaN  tt0391024                en   \n",
       "8                                 NaN  tt0117110                en   \n",
       "9                                 NaN  tt0310281                en   \n",
       "\n",
       "                             original_title  \\\n",
       "0                    Hot Tub Time Machine 2   \n",
       "1  The Princess Diaries 2: Royal Engagement   \n",
       "2                                  Whiplash   \n",
       "3                                   Kahaani   \n",
       "4                                      마린보이   \n",
       "5    Pinocchio and the Emperor of the Night   \n",
       "6                            The Possession   \n",
       "7                              Control Room   \n",
       "8                    Muppet Treasure Island   \n",
       "9                             A Mighty Wind   \n",
       "\n",
       "                                            overview  popularity  ...  \\\n",
       "0  When Lou, who has become the \"father of the In...    6.575393  ...   \n",
       "1  Mia Thermopolis is now a college graduate and ...    8.248895  ...   \n",
       "2  Under the direction of a ruthless instructor, ...   64.299990  ...   \n",
       "3  Vidya Bagchi (Vidya Balan) arrives in Kolkata ...    3.174936  ...   \n",
       "4  Marine Boy is the story of a former national s...    1.148070  ...   \n",
       "5  Pinocchio and his friends, a glow worm and a m...    0.743274  ...   \n",
       "6  A young girl buys an antique box at a yard sal...    7.286477  ...   \n",
       "7  A chronicle which provides a rare window into ...    1.949044  ...   \n",
       "8  After telling the story of Flint's last journe...    6.902423  ...   \n",
       "9  In \"A Mighty Wind\", director Christopher Guest...    4.672036  ...   \n",
       "\n",
       "  release_date runtime                                   spoken_languages  \\\n",
       "0      2/20/15    93.0           [{'iso_639_1': 'en', 'name': 'English'}]   \n",
       "1       8/6/04   113.0           [{'iso_639_1': 'en', 'name': 'English'}]   \n",
       "2     10/10/14   105.0           [{'iso_639_1': 'en', 'name': 'English'}]   \n",
       "3       3/9/12   122.0  [{'iso_639_1': 'en', 'name': 'English'}, {'iso...   \n",
       "4       2/5/09   118.0           [{'iso_639_1': 'ko', 'name': '한국어/조선말'}]   \n",
       "5       8/6/87    83.0           [{'iso_639_1': 'en', 'name': 'English'}]   \n",
       "6      8/30/12    92.0           [{'iso_639_1': 'en', 'name': 'English'}]   \n",
       "7      1/15/04    84.0  [{'iso_639_1': 'ar', 'name': 'العربية'}, {'iso...   \n",
       "8      2/16/96   100.0           [{'iso_639_1': 'en', 'name': 'English'}]   \n",
       "9      4/16/03    91.0           [{'iso_639_1': 'en', 'name': 'English'}]   \n",
       "\n",
       "     status                                            tagline  \\\n",
       "0  Released  The Laws of Space and Time are About to be Vio...   \n",
       "1  Released  It can take a lifetime to find true love; she'...   \n",
       "2  Released    The road to greatness can take you to the edge.   \n",
       "3  Released                                                NaN   \n",
       "4  Released                                                NaN   \n",
       "5  Released                                                NaN   \n",
       "6  Released               Fear The Demon That Doesn't Fear God   \n",
       "7  Released              Different channels. Different truths.   \n",
       "8  Released                        Set sail for Muppet mayhem!   \n",
       "9  Released           Back together for the first time, again.   \n",
       "\n",
       "                                      title  \\\n",
       "0                    Hot Tub Time Machine 2   \n",
       "1  The Princess Diaries 2: Royal Engagement   \n",
       "2                                  Whiplash   \n",
       "3                                   Kahaani   \n",
       "4                                Marine Boy   \n",
       "5    Pinocchio and the Emperor of the Night   \n",
       "6                            The Possession   \n",
       "7                              Control Room   \n",
       "8                    Muppet Treasure Island   \n",
       "9                             A Mighty Wind   \n",
       "\n",
       "                                            Keywords  \\\n",
       "0  [{'id': 4379, 'name': 'time travel'}, {'id': 9...   \n",
       "1  [{'id': 2505, 'name': 'coronation'}, {'id': 42...   \n",
       "2  [{'id': 1416, 'name': 'jazz'}, {'id': 1523, 'n...   \n",
       "3  [{'id': 10092, 'name': 'mystery'}, {'id': 1054...   \n",
       "4                                                NaN   \n",
       "5                                                NaN   \n",
       "6                                                NaN   \n",
       "7  [{'id': 917, 'name': 'journalism'}, {'id': 163...   \n",
       "8  [{'id': 2041, 'name': 'island'}, {'id': 4418, ...   \n",
       "9  [{'id': 11800, 'name': 'mockumentary'}, {'id':...   \n",
       "\n",
       "                                                cast  \\\n",
       "0  [{'cast_id': 4, 'character': 'Lou', 'credit_id...   \n",
       "1  [{'cast_id': 1, 'character': 'Mia Thermopolis'...   \n",
       "2  [{'cast_id': 5, 'character': 'Andrew Neimann',...   \n",
       "3  [{'cast_id': 1, 'character': 'Vidya Bagchi', '...   \n",
       "4  [{'cast_id': 3, 'character': 'Chun-soo', 'cred...   \n",
       "5  [{'cast_id': 6, 'character': 'Pinocchio (voice...   \n",
       "6  [{'cast_id': 23, 'character': 'Clyde', 'credit...   \n",
       "7  [{'cast_id': 2, 'character': 'Himself', 'credi...   \n",
       "8  [{'cast_id': 1, 'character': 'Long John Silver...   \n",
       "9  [{'cast_id': 24, 'character': 'Jonathan Steinb...   \n",
       "\n",
       "                                                crew   revenue  \n",
       "0  [{'credit_id': '59ac067c92514107af02c8c8', 'de...  12314651  \n",
       "1  [{'credit_id': '52fe43fe9251416c7502563d', 'de...  95149435  \n",
       "2  [{'credit_id': '54d5356ec3a3683ba0000039', 'de...  13092000  \n",
       "3  [{'credit_id': '52fe48779251416c9108d6eb', 'de...  16000000  \n",
       "4  [{'credit_id': '52fe464b9251416c75073b43', 'de...   3923970  \n",
       "5  [{'credit_id': '52fe46f49251416c9106558b', 'de...   3261638  \n",
       "6  [{'credit_id': '52fe4981c3a368484e12ee29', 'de...  85446075  \n",
       "7  [{'credit_id': '52fe47a69251416c750a0daf', 'de...   2586511  \n",
       "8  [{'credit_id': '52fe43c89251416c7501deb3', 'de...  34327391  \n",
       "9  [{'credit_id': '52fe45609251416c750545b3', 'de...  18750246  \n",
       "\n",
       "[10 rows x 23 columns]"
      ]
     },
     "execution_count": 3,
     "metadata": {},
     "output_type": "execute_result"
    }
   ],
   "source": [
    "train.head(n=10)"
   ]
  },
  {
   "cell_type": "markdown",
   "execution_count": null,
   "metadata": {
    "papermill": {
     "duration": 0.011071,
     "end_time": "2020-08-24T06:52:52.272994",
     "exception": false,
     "start_time": "2020-08-24T06:52:52.261923",
     "status": "completed"
    },
    "tags": []
   },
   "source": [
    "## Lets have some statastics of data."
   ]
  },
  {
   "cell_type": "code",
   "execution_count": 4,
   "metadata": {
    "execution": {
     "iopub.execute_input": "2020-08-24T06:52:52.303412Z",
     "iopub.status.busy": "2020-08-24T06:52:52.302542Z",
     "iopub.status.idle": "2020-08-24T06:52:52.310448Z",
     "shell.execute_reply": "2020-08-24T06:52:52.309715Z"
    },
    "papermill": {
     "duration": 0.026233,
     "end_time": "2020-08-24T06:52:52.310626",
     "exception": false,
     "start_time": "2020-08-24T06:52:52.284393",
     "status": "completed"
    },
    "tags": []
   },
   "outputs": [
    {
     "name": "stdout",
     "output_type": "stream",
     "text": [
      "Shape of data is \n"
     ]
    },
    {
     "data": {
      "text/plain": [
       "(3000, 23)"
      ]
     },
     "execution_count": 4,
     "metadata": {},
     "output_type": "execute_result"
    },
    {
     "name": "stdout",
     "output_type": "stream",
     "text": [
      "The total number of movies are 3000\n"
     ]
    }
   ],
   "source": [
    "print(\"Shape of data is \")\n",
    "train.shape\n",
    "print('The total number of movies are',train.shape[0])"
   ]
  },
  {
   "cell_type": "markdown",
   "execution_count": null,
   "metadata": {
    "papermill": {
     "duration": 0.011117,
     "end_time": "2020-08-24T06:52:52.334191",
     "exception": false,
     "start_time": "2020-08-24T06:52:52.323074",
     "status": "completed"
    },
    "tags": []
   },
   "source": [
    "## Lets check information of dataset."
   ]
  },
  {
   "cell_type": "code",
   "execution_count": 5,
   "metadata": {
    "execution": {
     "iopub.execute_input": "2020-08-24T06:52:52.381482Z",
     "iopub.status.busy": "2020-08-24T06:52:52.367742Z",
     "iopub.status.idle": "2020-08-24T06:52:52.385821Z",
     "shell.execute_reply": "2020-08-24T06:52:52.385289Z"
    },
    "papermill": {
     "duration": 0.040251,
     "end_time": "2020-08-24T06:52:52.385942",
     "exception": false,
     "start_time": "2020-08-24T06:52:52.345691",
     "status": "completed"
    },
    "tags": []
   },
   "outputs": [
    {
     "name": "stdout",
     "output_type": "stream",
     "text": [
      "<class 'pandas.core.frame.DataFrame'>\n",
      "RangeIndex: 3000 entries, 0 to 2999\n",
      "Data columns (total 23 columns):\n",
      " #   Column                 Non-Null Count  Dtype  \n",
      "---  ------                 --------------  -----  \n",
      " 0   id                     3000 non-null   int64  \n",
      " 1   belongs_to_collection  604 non-null    object \n",
      " 2   budget                 3000 non-null   int64  \n",
      " 3   genres                 2993 non-null   object \n",
      " 4   homepage               946 non-null    object \n",
      " 5   imdb_id                3000 non-null   object \n",
      " 6   original_language      3000 non-null   object \n",
      " 7   original_title         3000 non-null   object \n",
      " 8   overview               2992 non-null   object \n",
      " 9   popularity             3000 non-null   float64\n",
      " 10  poster_path            2999 non-null   object \n",
      " 11  production_companies   2844 non-null   object \n",
      " 12  production_countries   2945 non-null   object \n",
      " 13  release_date           3000 non-null   object \n",
      " 14  runtime                2998 non-null   float64\n",
      " 15  spoken_languages       2980 non-null   object \n",
      " 16  status                 3000 non-null   object \n",
      " 17  tagline                2403 non-null   object \n",
      " 18  title                  3000 non-null   object \n",
      " 19  Keywords               2724 non-null   object \n",
      " 20  cast                   2987 non-null   object \n",
      " 21  crew                   2984 non-null   object \n",
      " 22  revenue                3000 non-null   int64  \n",
      "dtypes: float64(2), int64(3), object(18)\n",
      "memory usage: 539.2+ KB\n"
     ]
    }
   ],
   "source": [
    "train.info()"
   ]
  },
  {
   "cell_type": "markdown",
   "execution_count": null,
   "metadata": {
    "papermill": {
     "duration": 0.011681,
     "end_time": "2020-08-24T06:52:52.409950",
     "exception": false,
     "start_time": "2020-08-24T06:52:52.398269",
     "status": "completed"
    },
    "tags": []
   },
   "source": [
    "### About Dataset:\n",
    "- **id**: Integer unique id of each movie\n",
    "- **belongs_to_collection**: Contains the TMDB Id, Name, Movie Poster and Backdrop URL of a movie in JSON format.\n",
    "- **budget**: Budget of a movie in dollars. Some row contains 0 values which mean unknown.\n",
    "- **genres**: Contains all the Genres Name & TMDB Id in JSON Format.\n",
    "- **homepage**: Contains the official URL of a movie.\n",
    "- **imdb_id**: IMDB id of a movie (string).\n",
    "- **original_language**: Two digit code of the original language, in which the movie was made.\n",
    "- **original_title**: The original title of a movie in original_language.\n",
    "- **overview**: Brief description of the movie.\n",
    "- **popularity**: Popularity of the movie.\n",
    "- **poster_path**: Poster path of a movie. You can see full poster image by adding url after this link --> https://image.tmdb.org/t/p/original/\n",
    "- **production_companies**: All production company name and TMDB id in JSON format of a movie.\n",
    "- **production_countries**: Two digit code and full name of the production company in JSON format.\n",
    "- **release_date**: Release date of a movie in mm/dd/yy format.\n",
    "- **runtime**: Total runtime of a movie in minutes (Integer).\n",
    "- **spoken_languages**: Two digit code and full name of the spoken language.\n",
    "- **status**: Is the movie released or rumored?\n",
    "- **tagline**: Tagline of a movie\n",
    "- **title**: English title of a movie\n",
    "- **Keywords**: TMDB Id and name of all the keywords in JSON format.\n",
    "- **cast**: All cast TMDB id, name, character name, gender (1 = Female, 2 = Male) in JSON format\n",
    "- **crew**: Name, TMDB id, profile path of various kind of crew members job like Director, Writer, Art, Sound etc.\n",
    "- **revenue**: Total revenue earned by a movie in dollars."
   ]
  },
  {
   "cell_type": "code",
   "execution_count": 6,
   "metadata": {
    "execution": {
     "iopub.execute_input": "2020-08-24T06:52:52.440787Z",
     "iopub.status.busy": "2020-08-24T06:52:52.440130Z",
     "iopub.status.idle": "2020-08-24T06:52:52.652424Z",
     "shell.execute_reply": "2020-08-24T06:52:52.651443Z"
    },
    "papermill": {
     "duration": 0.230761,
     "end_time": "2020-08-24T06:52:52.652571",
     "exception": false,
     "start_time": "2020-08-24T06:52:52.421810",
     "status": "completed"
    },
    "tags": []
   },
   "outputs": [
    {
     "data": {
      "text/html": [
       "<div>\n",
       "<style scoped>\n",
       "    .dataframe tbody tr th:only-of-type {\n",
       "        vertical-align: middle;\n",
       "    }\n",
       "\n",
       "    .dataframe tbody tr th {\n",
       "        vertical-align: top;\n",
       "    }\n",
       "\n",
       "    .dataframe thead th {\n",
       "        text-align: right;\n",
       "    }\n",
       "</style>\n",
       "<table border=\"1\" class=\"dataframe\">\n",
       "  <thead>\n",
       "    <tr style=\"text-align: right;\">\n",
       "      <th></th>\n",
       "      <th>id</th>\n",
       "      <th>belongs_to_collection</th>\n",
       "      <th>budget</th>\n",
       "      <th>genres</th>\n",
       "      <th>homepage</th>\n",
       "      <th>imdb_id</th>\n",
       "      <th>original_language</th>\n",
       "      <th>original_title</th>\n",
       "      <th>overview</th>\n",
       "      <th>popularity</th>\n",
       "      <th>...</th>\n",
       "      <th>release_date</th>\n",
       "      <th>runtime</th>\n",
       "      <th>spoken_languages</th>\n",
       "      <th>status</th>\n",
       "      <th>tagline</th>\n",
       "      <th>title</th>\n",
       "      <th>Keywords</th>\n",
       "      <th>cast</th>\n",
       "      <th>crew</th>\n",
       "      <th>revenue</th>\n",
       "    </tr>\n",
       "  </thead>\n",
       "  <tbody>\n",
       "    <tr>\n",
       "      <th>count</th>\n",
       "      <td>3000.000000</td>\n",
       "      <td>604</td>\n",
       "      <td>3.000000e+03</td>\n",
       "      <td>2993</td>\n",
       "      <td>946</td>\n",
       "      <td>3000</td>\n",
       "      <td>3000</td>\n",
       "      <td>3000</td>\n",
       "      <td>2992</td>\n",
       "      <td>3000.000000</td>\n",
       "      <td>...</td>\n",
       "      <td>3000</td>\n",
       "      <td>2998.000000</td>\n",
       "      <td>2980</td>\n",
       "      <td>3000</td>\n",
       "      <td>2403</td>\n",
       "      <td>3000</td>\n",
       "      <td>2724</td>\n",
       "      <td>2987</td>\n",
       "      <td>2984</td>\n",
       "      <td>3.000000e+03</td>\n",
       "    </tr>\n",
       "    <tr>\n",
       "      <th>unique</th>\n",
       "      <td>NaN</td>\n",
       "      <td>422</td>\n",
       "      <td>NaN</td>\n",
       "      <td>872</td>\n",
       "      <td>941</td>\n",
       "      <td>3000</td>\n",
       "      <td>36</td>\n",
       "      <td>2975</td>\n",
       "      <td>2992</td>\n",
       "      <td>NaN</td>\n",
       "      <td>...</td>\n",
       "      <td>2398</td>\n",
       "      <td>NaN</td>\n",
       "      <td>401</td>\n",
       "      <td>2</td>\n",
       "      <td>2400</td>\n",
       "      <td>2969</td>\n",
       "      <td>2648</td>\n",
       "      <td>2975</td>\n",
       "      <td>2984</td>\n",
       "      <td>NaN</td>\n",
       "    </tr>\n",
       "    <tr>\n",
       "      <th>top</th>\n",
       "      <td>NaN</td>\n",
       "      <td>[{'id': 645, 'name': 'James Bond Collection', ...</td>\n",
       "      <td>NaN</td>\n",
       "      <td>[{'id': 18, 'name': 'Drama'}]</td>\n",
       "      <td>http://www.transformersmovie.com/</td>\n",
       "      <td>tt1981677</td>\n",
       "      <td>en</td>\n",
       "      <td>King Kong</td>\n",
       "      <td>A group of men set out in search of a dead bod...</td>\n",
       "      <td>NaN</td>\n",
       "      <td>...</td>\n",
       "      <td>9/10/15</td>\n",
       "      <td>NaN</td>\n",
       "      <td>[{'iso_639_1': 'en', 'name': 'English'}]</td>\n",
       "      <td>Released</td>\n",
       "      <td>Based on a true story.</td>\n",
       "      <td>Black Sheep</td>\n",
       "      <td>[{'id': 10183, 'name': 'independent film'}]</td>\n",
       "      <td>[]</td>\n",
       "      <td>[{'credit_id': '52fe44ca9251416c75041069', 'de...</td>\n",
       "      <td>NaN</td>\n",
       "    </tr>\n",
       "    <tr>\n",
       "      <th>freq</th>\n",
       "      <td>NaN</td>\n",
       "      <td>16</td>\n",
       "      <td>NaN</td>\n",
       "      <td>266</td>\n",
       "      <td>4</td>\n",
       "      <td>1</td>\n",
       "      <td>2575</td>\n",
       "      <td>2</td>\n",
       "      <td>1</td>\n",
       "      <td>NaN</td>\n",
       "      <td>...</td>\n",
       "      <td>5</td>\n",
       "      <td>NaN</td>\n",
       "      <td>1817</td>\n",
       "      <td>2996</td>\n",
       "      <td>3</td>\n",
       "      <td>2</td>\n",
       "      <td>27</td>\n",
       "      <td>13</td>\n",
       "      <td>1</td>\n",
       "      <td>NaN</td>\n",
       "    </tr>\n",
       "    <tr>\n",
       "      <th>mean</th>\n",
       "      <td>1500.500000</td>\n",
       "      <td>NaN</td>\n",
       "      <td>2.253133e+07</td>\n",
       "      <td>NaN</td>\n",
       "      <td>NaN</td>\n",
       "      <td>NaN</td>\n",
       "      <td>NaN</td>\n",
       "      <td>NaN</td>\n",
       "      <td>NaN</td>\n",
       "      <td>8.463274</td>\n",
       "      <td>...</td>\n",
       "      <td>NaN</td>\n",
       "      <td>107.856571</td>\n",
       "      <td>NaN</td>\n",
       "      <td>NaN</td>\n",
       "      <td>NaN</td>\n",
       "      <td>NaN</td>\n",
       "      <td>NaN</td>\n",
       "      <td>NaN</td>\n",
       "      <td>NaN</td>\n",
       "      <td>6.672585e+07</td>\n",
       "    </tr>\n",
       "    <tr>\n",
       "      <th>std</th>\n",
       "      <td>866.169729</td>\n",
       "      <td>NaN</td>\n",
       "      <td>3.702609e+07</td>\n",
       "      <td>NaN</td>\n",
       "      <td>NaN</td>\n",
       "      <td>NaN</td>\n",
       "      <td>NaN</td>\n",
       "      <td>NaN</td>\n",
       "      <td>NaN</td>\n",
       "      <td>12.104000</td>\n",
       "      <td>...</td>\n",
       "      <td>NaN</td>\n",
       "      <td>22.086434</td>\n",
       "      <td>NaN</td>\n",
       "      <td>NaN</td>\n",
       "      <td>NaN</td>\n",
       "      <td>NaN</td>\n",
       "      <td>NaN</td>\n",
       "      <td>NaN</td>\n",
       "      <td>NaN</td>\n",
       "      <td>1.375323e+08</td>\n",
       "    </tr>\n",
       "    <tr>\n",
       "      <th>min</th>\n",
       "      <td>1.000000</td>\n",
       "      <td>NaN</td>\n",
       "      <td>0.000000e+00</td>\n",
       "      <td>NaN</td>\n",
       "      <td>NaN</td>\n",
       "      <td>NaN</td>\n",
       "      <td>NaN</td>\n",
       "      <td>NaN</td>\n",
       "      <td>NaN</td>\n",
       "      <td>0.000001</td>\n",
       "      <td>...</td>\n",
       "      <td>NaN</td>\n",
       "      <td>0.000000</td>\n",
       "      <td>NaN</td>\n",
       "      <td>NaN</td>\n",
       "      <td>NaN</td>\n",
       "      <td>NaN</td>\n",
       "      <td>NaN</td>\n",
       "      <td>NaN</td>\n",
       "      <td>NaN</td>\n",
       "      <td>1.000000e+00</td>\n",
       "    </tr>\n",
       "    <tr>\n",
       "      <th>25%</th>\n",
       "      <td>750.750000</td>\n",
       "      <td>NaN</td>\n",
       "      <td>0.000000e+00</td>\n",
       "      <td>NaN</td>\n",
       "      <td>NaN</td>\n",
       "      <td>NaN</td>\n",
       "      <td>NaN</td>\n",
       "      <td>NaN</td>\n",
       "      <td>NaN</td>\n",
       "      <td>4.018053</td>\n",
       "      <td>...</td>\n",
       "      <td>NaN</td>\n",
       "      <td>94.000000</td>\n",
       "      <td>NaN</td>\n",
       "      <td>NaN</td>\n",
       "      <td>NaN</td>\n",
       "      <td>NaN</td>\n",
       "      <td>NaN</td>\n",
       "      <td>NaN</td>\n",
       "      <td>NaN</td>\n",
       "      <td>2.379808e+06</td>\n",
       "    </tr>\n",
       "    <tr>\n",
       "      <th>50%</th>\n",
       "      <td>1500.500000</td>\n",
       "      <td>NaN</td>\n",
       "      <td>8.000000e+06</td>\n",
       "      <td>NaN</td>\n",
       "      <td>NaN</td>\n",
       "      <td>NaN</td>\n",
       "      <td>NaN</td>\n",
       "      <td>NaN</td>\n",
       "      <td>NaN</td>\n",
       "      <td>7.374861</td>\n",
       "      <td>...</td>\n",
       "      <td>NaN</td>\n",
       "      <td>104.000000</td>\n",
       "      <td>NaN</td>\n",
       "      <td>NaN</td>\n",
       "      <td>NaN</td>\n",
       "      <td>NaN</td>\n",
       "      <td>NaN</td>\n",
       "      <td>NaN</td>\n",
       "      <td>NaN</td>\n",
       "      <td>1.680707e+07</td>\n",
       "    </tr>\n",
       "    <tr>\n",
       "      <th>75%</th>\n",
       "      <td>2250.250000</td>\n",
       "      <td>NaN</td>\n",
       "      <td>2.900000e+07</td>\n",
       "      <td>NaN</td>\n",
       "      <td>NaN</td>\n",
       "      <td>NaN</td>\n",
       "      <td>NaN</td>\n",
       "      <td>NaN</td>\n",
       "      <td>NaN</td>\n",
       "      <td>10.890983</td>\n",
       "      <td>...</td>\n",
       "      <td>NaN</td>\n",
       "      <td>118.000000</td>\n",
       "      <td>NaN</td>\n",
       "      <td>NaN</td>\n",
       "      <td>NaN</td>\n",
       "      <td>NaN</td>\n",
       "      <td>NaN</td>\n",
       "      <td>NaN</td>\n",
       "      <td>NaN</td>\n",
       "      <td>6.891920e+07</td>\n",
       "    </tr>\n",
       "    <tr>\n",
       "      <th>max</th>\n",
       "      <td>3000.000000</td>\n",
       "      <td>NaN</td>\n",
       "      <td>3.800000e+08</td>\n",
       "      <td>NaN</td>\n",
       "      <td>NaN</td>\n",
       "      <td>NaN</td>\n",
       "      <td>NaN</td>\n",
       "      <td>NaN</td>\n",
       "      <td>NaN</td>\n",
       "      <td>294.337037</td>\n",
       "      <td>...</td>\n",
       "      <td>NaN</td>\n",
       "      <td>338.000000</td>\n",
       "      <td>NaN</td>\n",
       "      <td>NaN</td>\n",
       "      <td>NaN</td>\n",
       "      <td>NaN</td>\n",
       "      <td>NaN</td>\n",
       "      <td>NaN</td>\n",
       "      <td>NaN</td>\n",
       "      <td>1.519558e+09</td>\n",
       "    </tr>\n",
       "  </tbody>\n",
       "</table>\n",
       "<p>11 rows × 23 columns</p>\n",
       "</div>"
      ],
      "text/plain": [
       "                 id                              belongs_to_collection  \\\n",
       "count   3000.000000                                                604   \n",
       "unique          NaN                                                422   \n",
       "top             NaN  [{'id': 645, 'name': 'James Bond Collection', ...   \n",
       "freq            NaN                                                 16   \n",
       "mean    1500.500000                                                NaN   \n",
       "std      866.169729                                                NaN   \n",
       "min        1.000000                                                NaN   \n",
       "25%      750.750000                                                NaN   \n",
       "50%     1500.500000                                                NaN   \n",
       "75%     2250.250000                                                NaN   \n",
       "max     3000.000000                                                NaN   \n",
       "\n",
       "              budget                         genres  \\\n",
       "count   3.000000e+03                           2993   \n",
       "unique           NaN                            872   \n",
       "top              NaN  [{'id': 18, 'name': 'Drama'}]   \n",
       "freq             NaN                            266   \n",
       "mean    2.253133e+07                            NaN   \n",
       "std     3.702609e+07                            NaN   \n",
       "min     0.000000e+00                            NaN   \n",
       "25%     0.000000e+00                            NaN   \n",
       "50%     8.000000e+06                            NaN   \n",
       "75%     2.900000e+07                            NaN   \n",
       "max     3.800000e+08                            NaN   \n",
       "\n",
       "                                 homepage    imdb_id original_language  \\\n",
       "count                                 946       3000              3000   \n",
       "unique                                941       3000                36   \n",
       "top     http://www.transformersmovie.com/  tt1981677                en   \n",
       "freq                                    4          1              2575   \n",
       "mean                                  NaN        NaN               NaN   \n",
       "std                                   NaN        NaN               NaN   \n",
       "min                                   NaN        NaN               NaN   \n",
       "25%                                   NaN        NaN               NaN   \n",
       "50%                                   NaN        NaN               NaN   \n",
       "75%                                   NaN        NaN               NaN   \n",
       "max                                   NaN        NaN               NaN   \n",
       "\n",
       "       original_title                                           overview  \\\n",
       "count            3000                                               2992   \n",
       "unique           2975                                               2992   \n",
       "top         King Kong  A group of men set out in search of a dead bod...   \n",
       "freq                2                                                  1   \n",
       "mean              NaN                                                NaN   \n",
       "std               NaN                                                NaN   \n",
       "min               NaN                                                NaN   \n",
       "25%               NaN                                                NaN   \n",
       "50%               NaN                                                NaN   \n",
       "75%               NaN                                                NaN   \n",
       "max               NaN                                                NaN   \n",
       "\n",
       "         popularity  ... release_date      runtime  \\\n",
       "count   3000.000000  ...         3000  2998.000000   \n",
       "unique          NaN  ...         2398          NaN   \n",
       "top             NaN  ...      9/10/15          NaN   \n",
       "freq            NaN  ...            5          NaN   \n",
       "mean       8.463274  ...          NaN   107.856571   \n",
       "std       12.104000  ...          NaN    22.086434   \n",
       "min        0.000001  ...          NaN     0.000000   \n",
       "25%        4.018053  ...          NaN    94.000000   \n",
       "50%        7.374861  ...          NaN   104.000000   \n",
       "75%       10.890983  ...          NaN   118.000000   \n",
       "max      294.337037  ...          NaN   338.000000   \n",
       "\n",
       "                                spoken_languages    status  \\\n",
       "count                                       2980      3000   \n",
       "unique                                       401         2   \n",
       "top     [{'iso_639_1': 'en', 'name': 'English'}]  Released   \n",
       "freq                                        1817      2996   \n",
       "mean                                         NaN       NaN   \n",
       "std                                          NaN       NaN   \n",
       "min                                          NaN       NaN   \n",
       "25%                                          NaN       NaN   \n",
       "50%                                          NaN       NaN   \n",
       "75%                                          NaN       NaN   \n",
       "max                                          NaN       NaN   \n",
       "\n",
       "                       tagline        title  \\\n",
       "count                     2403         3000   \n",
       "unique                    2400         2969   \n",
       "top     Based on a true story.  Black Sheep   \n",
       "freq                         3            2   \n",
       "mean                       NaN          NaN   \n",
       "std                        NaN          NaN   \n",
       "min                        NaN          NaN   \n",
       "25%                        NaN          NaN   \n",
       "50%                        NaN          NaN   \n",
       "75%                        NaN          NaN   \n",
       "max                        NaN          NaN   \n",
       "\n",
       "                                           Keywords  cast  \\\n",
       "count                                          2724  2987   \n",
       "unique                                         2648  2975   \n",
       "top     [{'id': 10183, 'name': 'independent film'}]    []   \n",
       "freq                                             27    13   \n",
       "mean                                            NaN   NaN   \n",
       "std                                             NaN   NaN   \n",
       "min                                             NaN   NaN   \n",
       "25%                                             NaN   NaN   \n",
       "50%                                             NaN   NaN   \n",
       "75%                                             NaN   NaN   \n",
       "max                                             NaN   NaN   \n",
       "\n",
       "                                                     crew       revenue  \n",
       "count                                                2984  3.000000e+03  \n",
       "unique                                               2984           NaN  \n",
       "top     [{'credit_id': '52fe44ca9251416c75041069', 'de...           NaN  \n",
       "freq                                                    1           NaN  \n",
       "mean                                                  NaN  6.672585e+07  \n",
       "std                                                   NaN  1.375323e+08  \n",
       "min                                                   NaN  1.000000e+00  \n",
       "25%                                                   NaN  2.379808e+06  \n",
       "50%                                                   NaN  1.680707e+07  \n",
       "75%                                                   NaN  6.891920e+07  \n",
       "max                                                   NaN  1.519558e+09  \n",
       "\n",
       "[11 rows x 23 columns]"
      ]
     },
     "execution_count": 6,
     "metadata": {},
     "output_type": "execute_result"
    }
   ],
   "source": [
    "train.describe(include='all')"
   ]
  },
  {
   "cell_type": "markdown",
   "execution_count": null,
   "metadata": {
    "papermill": {
     "duration": 0.018722,
     "end_time": "2020-08-24T06:52:52.691782",
     "exception": false,
     "start_time": "2020-08-24T06:52:52.673060",
     "status": "completed"
    },
    "tags": []
   },
   "source": [
    "Let's check missing value in train data."
   ]
  },
  {
   "cell_type": "code",
   "execution_count": 7,
   "metadata": {
    "execution": {
     "iopub.execute_input": "2020-08-24T06:52:52.741074Z",
     "iopub.status.busy": "2020-08-24T06:52:52.740464Z",
     "iopub.status.idle": "2020-08-24T06:52:52.747327Z",
     "shell.execute_reply": "2020-08-24T06:52:52.747817Z"
    },
    "papermill": {
     "duration": 0.036229,
     "end_time": "2020-08-24T06:52:52.748003",
     "exception": false,
     "start_time": "2020-08-24T06:52:52.711774",
     "status": "completed"
    },
    "tags": []
   },
   "outputs": [
    {
     "data": {
      "text/plain": [
       "id                          0\n",
       "belongs_to_collection    2396\n",
       "budget                      0\n",
       "genres                      7\n",
       "homepage                 2054\n",
       "imdb_id                     0\n",
       "original_language           0\n",
       "original_title              0\n",
       "overview                    8\n",
       "popularity                  0\n",
       "poster_path                 1\n",
       "production_companies      156\n",
       "production_countries       55\n",
       "release_date                0\n",
       "runtime                     2\n",
       "spoken_languages           20\n",
       "status                      0\n",
       "tagline                   597\n",
       "title                       0\n",
       "Keywords                  276\n",
       "cast                       13\n",
       "crew                       16\n",
       "revenue                     0\n",
       "dtype: int64"
      ]
     },
     "execution_count": 7,
     "metadata": {},
     "output_type": "execute_result"
    }
   ],
   "source": [
    "# checking NULL value\n",
    "\n",
    "train.isnull().sum()"
   ]
  },
  {
   "cell_type": "markdown",
   "execution_count": null,
   "metadata": {
    "papermill": {
     "duration": 0.012065,
     "end_time": "2020-08-24T06:52:52.773318",
     "exception": false,
     "start_time": "2020-08-24T06:52:52.761253",
     "status": "completed"
    },
    "tags": []
   },
   "source": [
    "### As we can see that some features have dictiories. I am droping all such columns for now."
   ]
  },
  {
   "cell_type": "code",
   "execution_count": 8,
   "metadata": {
    "execution": {
     "iopub.execute_input": "2020-08-24T06:52:52.807403Z",
     "iopub.status.busy": "2020-08-24T06:52:52.806382Z",
     "iopub.status.idle": "2020-08-24T06:52:52.810021Z",
     "shell.execute_reply": "2020-08-24T06:52:52.809307Z"
    },
    "papermill": {
     "duration": 0.023589,
     "end_time": "2020-08-24T06:52:52.810164",
     "exception": false,
     "start_time": "2020-08-24T06:52:52.786575",
     "status": "completed"
    },
    "tags": []
   },
   "outputs": [],
   "source": [
    "train = train.drop(['belongs_to_collection', 'genres', 'crew', 'cast', 'Keywords', \n",
    "                  'spoken_languages', 'production_companies', 'production_countries', 'tagline','overview','homepage'], axis=1)"
   ]
  },
  {
   "cell_type": "markdown",
   "execution_count": null,
   "metadata": {
    "papermill": {
     "duration": 0.019155,
     "end_time": "2020-08-24T06:52:52.849583",
     "exception": false,
     "start_time": "2020-08-24T06:52:52.830428",
     "status": "completed"
    },
    "tags": []
   },
   "source": [
    "## Create new Column for release day, date, month and year."
   ]
  },
  {
   "cell_type": "code",
   "execution_count": 9,
   "metadata": {
    "execution": {
     "iopub.execute_input": "2020-08-24T06:52:52.911753Z",
     "iopub.status.busy": "2020-08-24T06:52:52.906512Z",
     "iopub.status.idle": "2020-08-24T06:52:53.232571Z",
     "shell.execute_reply": "2020-08-24T06:52:53.231948Z"
    },
    "papermill": {
     "duration": 0.363544,
     "end_time": "2020-08-24T06:52:53.232692",
     "exception": false,
     "start_time": "2020-08-24T06:52:52.869148",
     "status": "completed"
    },
    "tags": []
   },
   "outputs": [],
   "source": [
    "train['release_date'] = pd.to_datetime(train['release_date'], infer_datetime_format=True)\n",
    "train['release_day'] = train['release_date'].apply(lambda t: t.day)\n",
    "train['release_weekday'] = train['release_date'].apply(lambda t: t.weekday())\n",
    "train['release_month'] = train['release_date'].apply(lambda t: t.month)\n",
    "\n",
    "# Year was being interpreted as future dates in some cases so I had to adjust some values\n",
    "train['release_year'] = train['release_date'].apply(lambda t: t.year if t.year < 2018 else t.year -100)"
   ]
  },
  {
   "cell_type": "markdown",
   "execution_count": null,
   "metadata": {
    "papermill": {
     "duration": 0.012214,
     "end_time": "2020-08-24T06:52:53.258086",
     "exception": false,
     "start_time": "2020-08-24T06:52:53.245872",
     "status": "completed"
    },
    "tags": []
   },
   "source": [
    "# Data Analysis and Visualization"
   ]
  },
  {
   "cell_type": "markdown",
   "execution_count": null,
   "metadata": {
    "papermill": {
     "duration": 0.012341,
     "end_time": "2020-08-24T06:52:53.282733",
     "exception": false,
     "start_time": "2020-08-24T06:52:53.270392",
     "status": "completed"
    },
    "tags": []
   },
   "source": [
    "## 1. Which movie made the highest revenue?"
   ]
  },
  {
   "cell_type": "code",
   "execution_count": 10,
   "metadata": {
    "execution": {
     "iopub.execute_input": "2020-08-24T06:52:53.314382Z",
     "iopub.status.busy": "2020-08-24T06:52:53.313535Z",
     "iopub.status.idle": "2020-08-24T06:52:53.331223Z",
     "shell.execute_reply": "2020-08-24T06:52:53.331866Z"
    },
    "papermill": {
     "duration": 0.036925,
     "end_time": "2020-08-24T06:52:53.332084",
     "exception": false,
     "start_time": "2020-08-24T06:52:53.295159",
     "status": "completed"
    },
    "tags": []
   },
   "outputs": [
    {
     "data": {
      "text/html": [
       "<div>\n",
       "<style scoped>\n",
       "    .dataframe tbody tr th:only-of-type {\n",
       "        vertical-align: middle;\n",
       "    }\n",
       "\n",
       "    .dataframe tbody tr th {\n",
       "        vertical-align: top;\n",
       "    }\n",
       "\n",
       "    .dataframe thead th {\n",
       "        text-align: right;\n",
       "    }\n",
       "</style>\n",
       "<table border=\"1\" class=\"dataframe\">\n",
       "  <thead>\n",
       "    <tr style=\"text-align: right;\">\n",
       "      <th></th>\n",
       "      <th>id</th>\n",
       "      <th>budget</th>\n",
       "      <th>imdb_id</th>\n",
       "      <th>original_language</th>\n",
       "      <th>original_title</th>\n",
       "      <th>popularity</th>\n",
       "      <th>poster_path</th>\n",
       "      <th>release_date</th>\n",
       "      <th>runtime</th>\n",
       "      <th>status</th>\n",
       "      <th>title</th>\n",
       "      <th>revenue</th>\n",
       "      <th>release_day</th>\n",
       "      <th>release_weekday</th>\n",
       "      <th>release_month</th>\n",
       "      <th>release_year</th>\n",
       "    </tr>\n",
       "  </thead>\n",
       "  <tbody>\n",
       "    <tr>\n",
       "      <th>1126</th>\n",
       "      <td>1127</td>\n",
       "      <td>220000000</td>\n",
       "      <td>tt0848228</td>\n",
       "      <td>en</td>\n",
       "      <td>The Avengers</td>\n",
       "      <td>89.887648</td>\n",
       "      <td>/cezWGskPY5x7GaglTTRN4Fugfb8.jpg</td>\n",
       "      <td>2012-04-25</td>\n",
       "      <td>143.0</td>\n",
       "      <td>Released</td>\n",
       "      <td>The Avengers</td>\n",
       "      <td>1519557910</td>\n",
       "      <td>25</td>\n",
       "      <td>2</td>\n",
       "      <td>4</td>\n",
       "      <td>2012</td>\n",
       "    </tr>\n",
       "  </tbody>\n",
       "</table>\n",
       "</div>"
      ],
      "text/plain": [
       "        id     budget    imdb_id original_language original_title  popularity  \\\n",
       "1126  1127  220000000  tt0848228                en   The Avengers   89.887648   \n",
       "\n",
       "                           poster_path release_date  runtime    status  \\\n",
       "1126  /cezWGskPY5x7GaglTTRN4Fugfb8.jpg   2012-04-25    143.0  Released   \n",
       "\n",
       "             title     revenue  release_day  release_weekday  release_month  \\\n",
       "1126  The Avengers  1519557910           25                2              4   \n",
       "\n",
       "      release_year  \n",
       "1126          2012  "
      ]
     },
     "execution_count": 10,
     "metadata": {},
     "output_type": "execute_result"
    }
   ],
   "source": [
    "train[train['revenue'] == train['revenue'].max()]"
   ]
  },
  {
   "cell_type": "code",
   "execution_count": 11,
   "metadata": {
    "execution": {
     "iopub.execute_input": "2020-08-24T06:52:53.380772Z",
     "iopub.status.busy": "2020-08-24T06:52:53.379899Z",
     "iopub.status.idle": "2020-08-24T06:52:53.656038Z",
     "shell.execute_reply": "2020-08-24T06:52:53.655348Z"
    },
    "papermill": {
     "duration": 0.303418,
     "end_time": "2020-08-24T06:52:53.656154",
     "exception": false,
     "start_time": "2020-08-24T06:52:53.352736",
     "status": "completed"
    },
    "tags": []
   },
   "outputs": [
    {
     "data": {
      "text/html": [
       "<style  type=\"text/css\" >\n",
       "#T_6f02bb8e_e5d6_11ea_bf48_0242ac130202row0_col3{\n",
       "            background-color:  #00441b;\n",
       "            color:  #f1f1f1;\n",
       "        }#T_6f02bb8e_e5d6_11ea_bf48_0242ac130202row1_col3{\n",
       "            background-color:  #004c1e;\n",
       "            color:  #f1f1f1;\n",
       "        }#T_6f02bb8e_e5d6_11ea_bf48_0242ac130202row2_col3{\n",
       "            background-color:  #1d8640;\n",
       "            color:  #000000;\n",
       "        }#T_6f02bb8e_e5d6_11ea_bf48_0242ac130202row3_col3{\n",
       "            background-color:  #6dc5a9;\n",
       "            color:  #000000;\n",
       "        }#T_6f02bb8e_e5d6_11ea_bf48_0242ac130202row4_col3{\n",
       "            background-color:  #d6f0ee;\n",
       "            color:  #000000;\n",
       "        }#T_6f02bb8e_e5d6_11ea_bf48_0242ac130202row5_col3{\n",
       "            background-color:  #e5f5f9;\n",
       "            color:  #000000;\n",
       "        }#T_6f02bb8e_e5d6_11ea_bf48_0242ac130202row6_col3{\n",
       "            background-color:  #f1fafc;\n",
       "            color:  #000000;\n",
       "        }#T_6f02bb8e_e5d6_11ea_bf48_0242ac130202row7_col3{\n",
       "            background-color:  #f6fcfd;\n",
       "            color:  #000000;\n",
       "        }#T_6f02bb8e_e5d6_11ea_bf48_0242ac130202row8_col3,#T_6f02bb8e_e5d6_11ea_bf48_0242ac130202row9_col3{\n",
       "            background-color:  #f7fcfd;\n",
       "            color:  #000000;\n",
       "        }</style><table id=\"T_6f02bb8e_e5d6_11ea_bf48_0242ac130202\" ><thead>    <tr>        <th class=\"blank level0\" ></th>        <th class=\"col_heading level0 col0\" >id</th>        <th class=\"col_heading level0 col1\" >title</th>        <th class=\"col_heading level0 col2\" >budget</th>        <th class=\"col_heading level0 col3\" >revenue</th>    </tr></thead><tbody>\n",
       "                <tr>\n",
       "                        <th id=\"T_6f02bb8e_e5d6_11ea_bf48_0242ac130202level0_row0\" class=\"row_heading level0 row0\" >1126</th>\n",
       "                        <td id=\"T_6f02bb8e_e5d6_11ea_bf48_0242ac130202row0_col0\" class=\"data row0 col0\" >1127</td>\n",
       "                        <td id=\"T_6f02bb8e_e5d6_11ea_bf48_0242ac130202row0_col1\" class=\"data row0 col1\" >The Avengers</td>\n",
       "                        <td id=\"T_6f02bb8e_e5d6_11ea_bf48_0242ac130202row0_col2\" class=\"data row0 col2\" >220000000</td>\n",
       "                        <td id=\"T_6f02bb8e_e5d6_11ea_bf48_0242ac130202row0_col3\" class=\"data row0 col3\" >1519557910</td>\n",
       "            </tr>\n",
       "            <tr>\n",
       "                        <th id=\"T_6f02bb8e_e5d6_11ea_bf48_0242ac130202level0_row1\" class=\"row_heading level0 row1\" >1761</th>\n",
       "                        <td id=\"T_6f02bb8e_e5d6_11ea_bf48_0242ac130202row1_col0\" class=\"data row1 col0\" >1762</td>\n",
       "                        <td id=\"T_6f02bb8e_e5d6_11ea_bf48_0242ac130202row1_col1\" class=\"data row1 col1\" >Furious 7</td>\n",
       "                        <td id=\"T_6f02bb8e_e5d6_11ea_bf48_0242ac130202row1_col2\" class=\"data row1 col2\" >190000000</td>\n",
       "                        <td id=\"T_6f02bb8e_e5d6_11ea_bf48_0242ac130202row1_col3\" class=\"data row1 col3\" >1506249360</td>\n",
       "            </tr>\n",
       "            <tr>\n",
       "                        <th id=\"T_6f02bb8e_e5d6_11ea_bf48_0242ac130202level0_row2\" class=\"row_heading level0 row2\" >2770</th>\n",
       "                        <td id=\"T_6f02bb8e_e5d6_11ea_bf48_0242ac130202row2_col0\" class=\"data row2 col0\" >2771</td>\n",
       "                        <td id=\"T_6f02bb8e_e5d6_11ea_bf48_0242ac130202row2_col1\" class=\"data row2 col1\" >Avengers: Age of Ultron</td>\n",
       "                        <td id=\"T_6f02bb8e_e5d6_11ea_bf48_0242ac130202row2_col2\" class=\"data row2 col2\" >280000000</td>\n",
       "                        <td id=\"T_6f02bb8e_e5d6_11ea_bf48_0242ac130202row2_col3\" class=\"data row2 col3\" >1405403694</td>\n",
       "            </tr>\n",
       "            <tr>\n",
       "                        <th id=\"T_6f02bb8e_e5d6_11ea_bf48_0242ac130202level0_row3\" class=\"row_heading level0 row3\" >684</th>\n",
       "                        <td id=\"T_6f02bb8e_e5d6_11ea_bf48_0242ac130202row3_col0\" class=\"data row3 col0\" >685</td>\n",
       "                        <td id=\"T_6f02bb8e_e5d6_11ea_bf48_0242ac130202row3_col1\" class=\"data row3 col1\" >Beauty and the Beast</td>\n",
       "                        <td id=\"T_6f02bb8e_e5d6_11ea_bf48_0242ac130202row3_col2\" class=\"data row3 col2\" >160000000</td>\n",
       "                        <td id=\"T_6f02bb8e_e5d6_11ea_bf48_0242ac130202row3_col3\" class=\"data row3 col3\" >1262886337</td>\n",
       "            </tr>\n",
       "            <tr>\n",
       "                        <th id=\"T_6f02bb8e_e5d6_11ea_bf48_0242ac130202level0_row4\" class=\"row_heading level0 row4\" >2322</th>\n",
       "                        <td id=\"T_6f02bb8e_e5d6_11ea_bf48_0242ac130202row4_col0\" class=\"data row4 col0\" >2323</td>\n",
       "                        <td id=\"T_6f02bb8e_e5d6_11ea_bf48_0242ac130202row4_col1\" class=\"data row4 col1\" >Transformers: Dark of the Moon</td>\n",
       "                        <td id=\"T_6f02bb8e_e5d6_11ea_bf48_0242ac130202row4_col2\" class=\"data row4 col2\" >195000000</td>\n",
       "                        <td id=\"T_6f02bb8e_e5d6_11ea_bf48_0242ac130202row4_col3\" class=\"data row4 col3\" >1123746996</td>\n",
       "            </tr>\n",
       "            <tr>\n",
       "                        <th id=\"T_6f02bb8e_e5d6_11ea_bf48_0242ac130202level0_row5\" class=\"row_heading level0 row5\" >906</th>\n",
       "                        <td id=\"T_6f02bb8e_e5d6_11ea_bf48_0242ac130202row5_col0\" class=\"data row5 col0\" >907</td>\n",
       "                        <td id=\"T_6f02bb8e_e5d6_11ea_bf48_0242ac130202row5_col1\" class=\"data row5 col1\" >The Dark Knight Rises</td>\n",
       "                        <td id=\"T_6f02bb8e_e5d6_11ea_bf48_0242ac130202row5_col2\" class=\"data row5 col2\" >250000000</td>\n",
       "                        <td id=\"T_6f02bb8e_e5d6_11ea_bf48_0242ac130202row5_col3\" class=\"data row5 col3\" >1084939099</td>\n",
       "            </tr>\n",
       "            <tr>\n",
       "                        <th id=\"T_6f02bb8e_e5d6_11ea_bf48_0242ac130202level0_row6\" class=\"row_heading level0 row6\" >2135</th>\n",
       "                        <td id=\"T_6f02bb8e_e5d6_11ea_bf48_0242ac130202row6_col0\" class=\"data row6 col0\" >2136</td>\n",
       "                        <td id=\"T_6f02bb8e_e5d6_11ea_bf48_0242ac130202row6_col1\" class=\"data row6 col1\" >Pirates of the Caribbean: On Stranger Tides</td>\n",
       "                        <td id=\"T_6f02bb8e_e5d6_11ea_bf48_0242ac130202row6_col2\" class=\"data row6 col2\" >380000000</td>\n",
       "                        <td id=\"T_6f02bb8e_e5d6_11ea_bf48_0242ac130202row6_col3\" class=\"data row6 col3\" >1045713802</td>\n",
       "            </tr>\n",
       "            <tr>\n",
       "                        <th id=\"T_6f02bb8e_e5d6_11ea_bf48_0242ac130202level0_row7\" class=\"row_heading level0 row7\" >2562</th>\n",
       "                        <td id=\"T_6f02bb8e_e5d6_11ea_bf48_0242ac130202row7_col0\" class=\"data row7 col0\" >2563</td>\n",
       "                        <td id=\"T_6f02bb8e_e5d6_11ea_bf48_0242ac130202row7_col1\" class=\"data row7 col1\" >Finding Dory</td>\n",
       "                        <td id=\"T_6f02bb8e_e5d6_11ea_bf48_0242ac130202row7_col2\" class=\"data row7 col2\" >200000000</td>\n",
       "                        <td id=\"T_6f02bb8e_e5d6_11ea_bf48_0242ac130202row7_col3\" class=\"data row7 col3\" >1028570889</td>\n",
       "            </tr>\n",
       "            <tr>\n",
       "                        <th id=\"T_6f02bb8e_e5d6_11ea_bf48_0242ac130202level0_row8\" class=\"row_heading level0 row8\" >881</th>\n",
       "                        <td id=\"T_6f02bb8e_e5d6_11ea_bf48_0242ac130202row8_col0\" class=\"data row8 col0\" >882</td>\n",
       "                        <td id=\"T_6f02bb8e_e5d6_11ea_bf48_0242ac130202row8_col1\" class=\"data row8 col1\" >Alice in Wonderland</td>\n",
       "                        <td id=\"T_6f02bb8e_e5d6_11ea_bf48_0242ac130202row8_col2\" class=\"data row8 col2\" >200000000</td>\n",
       "                        <td id=\"T_6f02bb8e_e5d6_11ea_bf48_0242ac130202row8_col3\" class=\"data row8 col3\" >1025491110</td>\n",
       "            </tr>\n",
       "            <tr>\n",
       "                        <th id=\"T_6f02bb8e_e5d6_11ea_bf48_0242ac130202level0_row9\" class=\"row_heading level0 row9\" >734</th>\n",
       "                        <td id=\"T_6f02bb8e_e5d6_11ea_bf48_0242ac130202row9_col0\" class=\"data row9 col0\" >735</td>\n",
       "                        <td id=\"T_6f02bb8e_e5d6_11ea_bf48_0242ac130202row9_col1\" class=\"data row9 col1\" >Zootopia</td>\n",
       "                        <td id=\"T_6f02bb8e_e5d6_11ea_bf48_0242ac130202row9_col2\" class=\"data row9 col2\" >150000000</td>\n",
       "                        <td id=\"T_6f02bb8e_e5d6_11ea_bf48_0242ac130202row9_col3\" class=\"data row9 col3\" >1023784195</td>\n",
       "            </tr>\n",
       "    </tbody></table>"
      ],
      "text/plain": [
       "<pandas.io.formats.style.Styler at 0x7f32f7629dd0>"
      ]
     },
     "execution_count": 11,
     "metadata": {},
     "output_type": "execute_result"
    }
   ],
   "source": [
    "train[['id','title','budget','revenue']].sort_values(['revenue'], ascending=False).head(10).style.background_gradient(subset='revenue', cmap='BuGn')"
   ]
  },
  {
   "cell_type": "markdown",
   "execution_count": null,
   "metadata": {
    "papermill": {
     "duration": 0.012936,
     "end_time": "2020-08-24T06:52:53.682759",
     "exception": false,
     "start_time": "2020-08-24T06:52:53.669823",
     "status": "completed"
    },
    "tags": []
   },
   "source": [
    "## The Avengers made the highest revenue."
   ]
  },
  {
   "cell_type": "markdown",
   "execution_count": null,
   "metadata": {
    "papermill": {
     "duration": 0.01353,
     "end_time": "2020-08-24T06:52:53.709349",
     "exception": false,
     "start_time": "2020-08-24T06:52:53.695819",
     "status": "completed"
    },
    "tags": []
   },
   "source": [
    "## 2. Which movie is the most expensive?"
   ]
  },
  {
   "cell_type": "code",
   "execution_count": 12,
   "metadata": {
    "execution": {
     "iopub.execute_input": "2020-08-24T06:52:53.762001Z",
     "iopub.status.busy": "2020-08-24T06:52:53.761229Z",
     "iopub.status.idle": "2020-08-24T06:52:53.766779Z",
     "shell.execute_reply": "2020-08-24T06:52:53.765923Z"
    },
    "papermill": {
     "duration": 0.044256,
     "end_time": "2020-08-24T06:52:53.766912",
     "exception": false,
     "start_time": "2020-08-24T06:52:53.722656",
     "status": "completed"
    },
    "tags": []
   },
   "outputs": [
    {
     "data": {
      "text/html": [
       "<div>\n",
       "<style scoped>\n",
       "    .dataframe tbody tr th:only-of-type {\n",
       "        vertical-align: middle;\n",
       "    }\n",
       "\n",
       "    .dataframe tbody tr th {\n",
       "        vertical-align: top;\n",
       "    }\n",
       "\n",
       "    .dataframe thead th {\n",
       "        text-align: right;\n",
       "    }\n",
       "</style>\n",
       "<table border=\"1\" class=\"dataframe\">\n",
       "  <thead>\n",
       "    <tr style=\"text-align: right;\">\n",
       "      <th></th>\n",
       "      <th>id</th>\n",
       "      <th>budget</th>\n",
       "      <th>imdb_id</th>\n",
       "      <th>original_language</th>\n",
       "      <th>original_title</th>\n",
       "      <th>popularity</th>\n",
       "      <th>poster_path</th>\n",
       "      <th>release_date</th>\n",
       "      <th>runtime</th>\n",
       "      <th>status</th>\n",
       "      <th>title</th>\n",
       "      <th>revenue</th>\n",
       "      <th>release_day</th>\n",
       "      <th>release_weekday</th>\n",
       "      <th>release_month</th>\n",
       "      <th>release_year</th>\n",
       "    </tr>\n",
       "  </thead>\n",
       "  <tbody>\n",
       "    <tr>\n",
       "      <th>2135</th>\n",
       "      <td>2136</td>\n",
       "      <td>380000000</td>\n",
       "      <td>tt1298650</td>\n",
       "      <td>en</td>\n",
       "      <td>Pirates of the Caribbean: On Stranger Tides</td>\n",
       "      <td>27.88772</td>\n",
       "      <td>/wNUDAq5OUMOtxMlz64YaCp7gZma.jpg</td>\n",
       "      <td>2011-05-14</td>\n",
       "      <td>136.0</td>\n",
       "      <td>Released</td>\n",
       "      <td>Pirates of the Caribbean: On Stranger Tides</td>\n",
       "      <td>1045713802</td>\n",
       "      <td>14</td>\n",
       "      <td>5</td>\n",
       "      <td>5</td>\n",
       "      <td>2011</td>\n",
       "    </tr>\n",
       "  </tbody>\n",
       "</table>\n",
       "</div>"
      ],
      "text/plain": [
       "        id     budget    imdb_id original_language  \\\n",
       "2135  2136  380000000  tt1298650                en   \n",
       "\n",
       "                                   original_title  popularity  \\\n",
       "2135  Pirates of the Caribbean: On Stranger Tides    27.88772   \n",
       "\n",
       "                           poster_path release_date  runtime    status  \\\n",
       "2135  /wNUDAq5OUMOtxMlz64YaCp7gZma.jpg   2011-05-14    136.0  Released   \n",
       "\n",
       "                                            title     revenue  release_day  \\\n",
       "2135  Pirates of the Caribbean: On Stranger Tides  1045713802           14   \n",
       "\n",
       "      release_weekday  release_month  release_year  \n",
       "2135                5              5          2011  "
      ]
     },
     "execution_count": 12,
     "metadata": {},
     "output_type": "execute_result"
    }
   ],
   "source": [
    "train[train['budget'] == train['budget'].max()]"
   ]
  },
  {
   "cell_type": "code",
   "execution_count": 13,
   "metadata": {
    "execution": {
     "iopub.execute_input": "2020-08-24T06:52:53.817834Z",
     "iopub.status.busy": "2020-08-24T06:52:53.817039Z",
     "iopub.status.idle": "2020-08-24T06:52:53.834853Z",
     "shell.execute_reply": "2020-08-24T06:52:53.834248Z"
    },
    "papermill": {
     "duration": 0.046361,
     "end_time": "2020-08-24T06:52:53.834982",
     "exception": false,
     "start_time": "2020-08-24T06:52:53.788621",
     "status": "completed"
    },
    "tags": []
   },
   "outputs": [
    {
     "data": {
      "text/html": [
       "<style  type=\"text/css\" >\n",
       "#T_6f1e6faa_e5d6_11ea_bf48_0242ac130202row0_col2,#T_6f1e6faa_e5d6_11ea_bf48_0242ac130202row2_col3{\n",
       "            background-color:  #023858;\n",
       "            color:  #f1f1f1;\n",
       "        }#T_6f1e6faa_e5d6_11ea_bf48_0242ac130202row0_col3{\n",
       "            background-color:  #2182b9;\n",
       "            color:  #000000;\n",
       "        }#T_6f1e6faa_e5d6_11ea_bf48_0242ac130202row1_col2{\n",
       "            background-color:  #a2bcda;\n",
       "            color:  #000000;\n",
       "        }#T_6f1e6faa_e5d6_11ea_bf48_0242ac130202row1_col3{\n",
       "            background-color:  #4094c3;\n",
       "            color:  #000000;\n",
       "        }#T_6f1e6faa_e5d6_11ea_bf48_0242ac130202row2_col2{\n",
       "            background-color:  #d4d4e8;\n",
       "            color:  #000000;\n",
       "        }#T_6f1e6faa_e5d6_11ea_bf48_0242ac130202row3_col2{\n",
       "            background-color:  #e6e2ef;\n",
       "            color:  #000000;\n",
       "        }#T_6f1e6faa_e5d6_11ea_bf48_0242ac130202row3_col3{\n",
       "            background-color:  #f1ebf4;\n",
       "            color:  #000000;\n",
       "        }#T_6f1e6faa_e5d6_11ea_bf48_0242ac130202row4_col2,#T_6f1e6faa_e5d6_11ea_bf48_0242ac130202row5_col2{\n",
       "            background-color:  #f4edf6;\n",
       "            color:  #000000;\n",
       "        }#T_6f1e6faa_e5d6_11ea_bf48_0242ac130202row4_col3,#T_6f1e6faa_e5d6_11ea_bf48_0242ac130202row6_col2,#T_6f1e6faa_e5d6_11ea_bf48_0242ac130202row7_col2,#T_6f1e6faa_e5d6_11ea_bf48_0242ac130202row8_col2,#T_6f1e6faa_e5d6_11ea_bf48_0242ac130202row9_col2{\n",
       "            background-color:  #fff7fb;\n",
       "            color:  #000000;\n",
       "        }#T_6f1e6faa_e5d6_11ea_bf48_0242ac130202row5_col3{\n",
       "            background-color:  #c4cbe3;\n",
       "            color:  #000000;\n",
       "        }#T_6f1e6faa_e5d6_11ea_bf48_0242ac130202row6_col3{\n",
       "            background-color:  #2987bc;\n",
       "            color:  #000000;\n",
       "        }#T_6f1e6faa_e5d6_11ea_bf48_0242ac130202row7_col3{\n",
       "            background-color:  #4c99c5;\n",
       "            color:  #000000;\n",
       "        }#T_6f1e6faa_e5d6_11ea_bf48_0242ac130202row8_col3{\n",
       "            background-color:  #1379b5;\n",
       "            color:  #f1f1f1;\n",
       "        }#T_6f1e6faa_e5d6_11ea_bf48_0242ac130202row9_col3{\n",
       "            background-color:  #4295c3;\n",
       "            color:  #000000;\n",
       "        }</style><table id=\"T_6f1e6faa_e5d6_11ea_bf48_0242ac130202\" ><thead>    <tr>        <th class=\"blank level0\" ></th>        <th class=\"col_heading level0 col0\" >id</th>        <th class=\"col_heading level0 col1\" >title</th>        <th class=\"col_heading level0 col2\" >budget</th>        <th class=\"col_heading level0 col3\" >revenue</th>    </tr></thead><tbody>\n",
       "                <tr>\n",
       "                        <th id=\"T_6f1e6faa_e5d6_11ea_bf48_0242ac130202level0_row0\" class=\"row_heading level0 row0\" >2135</th>\n",
       "                        <td id=\"T_6f1e6faa_e5d6_11ea_bf48_0242ac130202row0_col0\" class=\"data row0 col0\" >2136</td>\n",
       "                        <td id=\"T_6f1e6faa_e5d6_11ea_bf48_0242ac130202row0_col1\" class=\"data row0 col1\" >Pirates of the Caribbean: On Stranger Tides</td>\n",
       "                        <td id=\"T_6f1e6faa_e5d6_11ea_bf48_0242ac130202row0_col2\" class=\"data row0 col2\" >380000000</td>\n",
       "                        <td id=\"T_6f1e6faa_e5d6_11ea_bf48_0242ac130202row0_col3\" class=\"data row0 col3\" >1045713802</td>\n",
       "            </tr>\n",
       "            <tr>\n",
       "                        <th id=\"T_6f1e6faa_e5d6_11ea_bf48_0242ac130202level0_row1\" class=\"row_heading level0 row1\" >2209</th>\n",
       "                        <td id=\"T_6f1e6faa_e5d6_11ea_bf48_0242ac130202row1_col0\" class=\"data row1 col0\" >2210</td>\n",
       "                        <td id=\"T_6f1e6faa_e5d6_11ea_bf48_0242ac130202row1_col1\" class=\"data row1 col1\" >Pirates of the Caribbean: At World's End</td>\n",
       "                        <td id=\"T_6f1e6faa_e5d6_11ea_bf48_0242ac130202row1_col2\" class=\"data row1 col2\" >300000000</td>\n",
       "                        <td id=\"T_6f1e6faa_e5d6_11ea_bf48_0242ac130202row1_col3\" class=\"data row1 col3\" >961000000</td>\n",
       "            </tr>\n",
       "            <tr>\n",
       "                        <th id=\"T_6f1e6faa_e5d6_11ea_bf48_0242ac130202level0_row2\" class=\"row_heading level0 row2\" >2770</th>\n",
       "                        <td id=\"T_6f1e6faa_e5d6_11ea_bf48_0242ac130202row2_col0\" class=\"data row2 col0\" >2771</td>\n",
       "                        <td id=\"T_6f1e6faa_e5d6_11ea_bf48_0242ac130202row2_col1\" class=\"data row2 col1\" >Avengers: Age of Ultron</td>\n",
       "                        <td id=\"T_6f1e6faa_e5d6_11ea_bf48_0242ac130202row2_col2\" class=\"data row2 col2\" >280000000</td>\n",
       "                        <td id=\"T_6f1e6faa_e5d6_11ea_bf48_0242ac130202row2_col3\" class=\"data row2 col3\" >1405403694</td>\n",
       "            </tr>\n",
       "            <tr>\n",
       "                        <th id=\"T_6f1e6faa_e5d6_11ea_bf48_0242ac130202level0_row3\" class=\"row_heading level0 row3\" >1425</th>\n",
       "                        <td id=\"T_6f1e6faa_e5d6_11ea_bf48_0242ac130202row3_col0\" class=\"data row3 col0\" >1426</td>\n",
       "                        <td id=\"T_6f1e6faa_e5d6_11ea_bf48_0242ac130202row3_col1\" class=\"data row3 col1\" >Superman Returns</td>\n",
       "                        <td id=\"T_6f1e6faa_e5d6_11ea_bf48_0242ac130202row3_col2\" class=\"data row3 col2\" >270000000</td>\n",
       "                        <td id=\"T_6f1e6faa_e5d6_11ea_bf48_0242ac130202row3_col3\" class=\"data row3 col3\" >391081192</td>\n",
       "            </tr>\n",
       "            <tr>\n",
       "                        <th id=\"T_6f1e6faa_e5d6_11ea_bf48_0242ac130202level0_row4\" class=\"row_heading level0 row4\" >1270</th>\n",
       "                        <td id=\"T_6f1e6faa_e5d6_11ea_bf48_0242ac130202row4_col0\" class=\"data row4 col0\" >1271</td>\n",
       "                        <td id=\"T_6f1e6faa_e5d6_11ea_bf48_0242ac130202row4_col1\" class=\"data row4 col1\" >John Carter</td>\n",
       "                        <td id=\"T_6f1e6faa_e5d6_11ea_bf48_0242ac130202row4_col2\" class=\"data row4 col2\" >260000000</td>\n",
       "                        <td id=\"T_6f1e6faa_e5d6_11ea_bf48_0242ac130202row4_col3\" class=\"data row4 col3\" >284139100</td>\n",
       "            </tr>\n",
       "            <tr>\n",
       "                        <th id=\"T_6f1e6faa_e5d6_11ea_bf48_0242ac130202level0_row5\" class=\"row_heading level0 row5\" >1630</th>\n",
       "                        <td id=\"T_6f1e6faa_e5d6_11ea_bf48_0242ac130202row5_col0\" class=\"data row5 col0\" >1631</td>\n",
       "                        <td id=\"T_6f1e6faa_e5d6_11ea_bf48_0242ac130202row5_col1\" class=\"data row5 col1\" >Transformers: The Last Knight</td>\n",
       "                        <td id=\"T_6f1e6faa_e5d6_11ea_bf48_0242ac130202row5_col2\" class=\"data row5 col2\" >260000000</td>\n",
       "                        <td id=\"T_6f1e6faa_e5d6_11ea_bf48_0242ac130202row5_col3\" class=\"data row5 col3\" >604942143</td>\n",
       "            </tr>\n",
       "            <tr>\n",
       "                        <th id=\"T_6f1e6faa_e5d6_11ea_bf48_0242ac130202level0_row6\" class=\"row_heading level0 row6\" >2532</th>\n",
       "                        <td id=\"T_6f1e6faa_e5d6_11ea_bf48_0242ac130202row6_col0\" class=\"data row6 col0\" >2533</td>\n",
       "                        <td id=\"T_6f1e6faa_e5d6_11ea_bf48_0242ac130202row6_col1\" class=\"data row6 col1\" >The Hobbit: An Unexpected Journey</td>\n",
       "                        <td id=\"T_6f1e6faa_e5d6_11ea_bf48_0242ac130202row6_col2\" class=\"data row6 col2\" >250000000</td>\n",
       "                        <td id=\"T_6f1e6faa_e5d6_11ea_bf48_0242ac130202row6_col3\" class=\"data row6 col3\" >1021103568</td>\n",
       "            </tr>\n",
       "            <tr>\n",
       "                        <th id=\"T_6f1e6faa_e5d6_11ea_bf48_0242ac130202level0_row7\" class=\"row_heading level0 row7\" >961</th>\n",
       "                        <td id=\"T_6f1e6faa_e5d6_11ea_bf48_0242ac130202row7_col0\" class=\"data row7 col0\" >962</td>\n",
       "                        <td id=\"T_6f1e6faa_e5d6_11ea_bf48_0242ac130202row7_col1\" class=\"data row7 col1\" >Harry Potter and the Half-Blood Prince</td>\n",
       "                        <td id=\"T_6f1e6faa_e5d6_11ea_bf48_0242ac130202row7_col2\" class=\"data row7 col2\" >250000000</td>\n",
       "                        <td id=\"T_6f1e6faa_e5d6_11ea_bf48_0242ac130202row7_col3\" class=\"data row7 col3\" >933959197</td>\n",
       "            </tr>\n",
       "            <tr>\n",
       "                        <th id=\"T_6f1e6faa_e5d6_11ea_bf48_0242ac130202level0_row8\" class=\"row_heading level0 row8\" >906</th>\n",
       "                        <td id=\"T_6f1e6faa_e5d6_11ea_bf48_0242ac130202row8_col0\" class=\"data row8 col0\" >907</td>\n",
       "                        <td id=\"T_6f1e6faa_e5d6_11ea_bf48_0242ac130202row8_col1\" class=\"data row8 col1\" >The Dark Knight Rises</td>\n",
       "                        <td id=\"T_6f1e6faa_e5d6_11ea_bf48_0242ac130202row8_col2\" class=\"data row8 col2\" >250000000</td>\n",
       "                        <td id=\"T_6f1e6faa_e5d6_11ea_bf48_0242ac130202row8_col3\" class=\"data row8 col3\" >1084939099</td>\n",
       "            </tr>\n",
       "            <tr>\n",
       "                        <th id=\"T_6f1e6faa_e5d6_11ea_bf48_0242ac130202level0_row9\" class=\"row_heading level0 row9\" >666</th>\n",
       "                        <td id=\"T_6f1e6faa_e5d6_11ea_bf48_0242ac130202row9_col0\" class=\"data row9 col0\" >667</td>\n",
       "                        <td id=\"T_6f1e6faa_e5d6_11ea_bf48_0242ac130202row9_col1\" class=\"data row9 col1\" >The Hobbit: The Desolation of Smaug</td>\n",
       "                        <td id=\"T_6f1e6faa_e5d6_11ea_bf48_0242ac130202row9_col2\" class=\"data row9 col2\" >250000000</td>\n",
       "                        <td id=\"T_6f1e6faa_e5d6_11ea_bf48_0242ac130202row9_col3\" class=\"data row9 col3\" >958400000</td>\n",
       "            </tr>\n",
       "    </tbody></table>"
      ],
      "text/plain": [
       "<pandas.io.formats.style.Styler at 0x7f32f7630bd0>"
      ]
     },
     "execution_count": 13,
     "metadata": {},
     "output_type": "execute_result"
    }
   ],
   "source": [
    "train[['id','title','budget', 'revenue']].sort_values(['budget'], ascending=False).head(10).style.background_gradient(subset=['budget', 'revenue'], cmap='PuBu')"
   ]
  },
  {
   "cell_type": "markdown",
   "execution_count": null,
   "metadata": {
    "papermill": {
     "duration": 0.013448,
     "end_time": "2020-08-24T06:52:53.862363",
     "exception": false,
     "start_time": "2020-08-24T06:52:53.848915",
     "status": "completed"
    },
    "tags": []
   },
   "source": [
    "## Pirates of the Caribbean: On Stranger Tides is most expensive movie."
   ]
  },
  {
   "cell_type": "markdown",
   "execution_count": null,
   "metadata": {
    "papermill": {
     "duration": 0.013334,
     "end_time": "2020-08-24T06:52:53.889249",
     "exception": false,
     "start_time": "2020-08-24T06:52:53.875915",
     "status": "completed"
    },
    "tags": []
   },
   "source": [
    "## 3. Which movie is Longest?"
   ]
  },
  {
   "cell_type": "code",
   "execution_count": 14,
   "metadata": {
    "execution": {
     "iopub.execute_input": "2020-08-24T06:52:53.940779Z",
     "iopub.status.busy": "2020-08-24T06:52:53.939991Z",
     "iopub.status.idle": "2020-08-24T06:52:53.945713Z",
     "shell.execute_reply": "2020-08-24T06:52:53.945157Z"
    },
    "papermill": {
     "duration": 0.042898,
     "end_time": "2020-08-24T06:52:53.945832",
     "exception": false,
     "start_time": "2020-08-24T06:52:53.902934",
     "status": "completed"
    },
    "tags": []
   },
   "outputs": [
    {
     "data": {
      "text/html": [
       "<div>\n",
       "<style scoped>\n",
       "    .dataframe tbody tr th:only-of-type {\n",
       "        vertical-align: middle;\n",
       "    }\n",
       "\n",
       "    .dataframe tbody tr th {\n",
       "        vertical-align: top;\n",
       "    }\n",
       "\n",
       "    .dataframe thead th {\n",
       "        text-align: right;\n",
       "    }\n",
       "</style>\n",
       "<table border=\"1\" class=\"dataframe\">\n",
       "  <thead>\n",
       "    <tr style=\"text-align: right;\">\n",
       "      <th></th>\n",
       "      <th>id</th>\n",
       "      <th>budget</th>\n",
       "      <th>imdb_id</th>\n",
       "      <th>original_language</th>\n",
       "      <th>original_title</th>\n",
       "      <th>popularity</th>\n",
       "      <th>poster_path</th>\n",
       "      <th>release_date</th>\n",
       "      <th>runtime</th>\n",
       "      <th>status</th>\n",
       "      <th>title</th>\n",
       "      <th>revenue</th>\n",
       "      <th>release_day</th>\n",
       "      <th>release_weekday</th>\n",
       "      <th>release_month</th>\n",
       "      <th>release_year</th>\n",
       "    </tr>\n",
       "  </thead>\n",
       "  <tbody>\n",
       "    <tr>\n",
       "      <th>1211</th>\n",
       "      <td>1212</td>\n",
       "      <td>18000000</td>\n",
       "      <td>tt1321865</td>\n",
       "      <td>en</td>\n",
       "      <td>Carlos</td>\n",
       "      <td>4.558075</td>\n",
       "      <td>/obHJeOHn8J5XD049nj7KVSpAMEW.jpg</td>\n",
       "      <td>2010-05-19</td>\n",
       "      <td>338.0</td>\n",
       "      <td>Released</td>\n",
       "      <td>Carlos</td>\n",
       "      <td>871279</td>\n",
       "      <td>19</td>\n",
       "      <td>2</td>\n",
       "      <td>5</td>\n",
       "      <td>2010</td>\n",
       "    </tr>\n",
       "  </tbody>\n",
       "</table>\n",
       "</div>"
      ],
      "text/plain": [
       "        id    budget    imdb_id original_language original_title  popularity  \\\n",
       "1211  1212  18000000  tt1321865                en         Carlos    4.558075   \n",
       "\n",
       "                           poster_path release_date  runtime    status  \\\n",
       "1211  /obHJeOHn8J5XD049nj7KVSpAMEW.jpg   2010-05-19    338.0  Released   \n",
       "\n",
       "       title  revenue  release_day  release_weekday  release_month  \\\n",
       "1211  Carlos   871279           19                2              5   \n",
       "\n",
       "      release_year  \n",
       "1211          2010  "
      ]
     },
     "execution_count": 14,
     "metadata": {},
     "output_type": "execute_result"
    }
   ],
   "source": [
    "train[train['runtime'] == train['runtime'].max()]"
   ]
  },
  {
   "cell_type": "code",
   "execution_count": 15,
   "metadata": {
    "execution": {
     "iopub.execute_input": "2020-08-24T06:52:53.980661Z",
     "iopub.status.busy": "2020-08-24T06:52:53.979724Z",
     "iopub.status.idle": "2020-08-24T06:52:54.271553Z",
     "shell.execute_reply": "2020-08-24T06:52:54.270851Z"
    },
    "papermill": {
     "duration": 0.311116,
     "end_time": "2020-08-24T06:52:54.271669",
     "exception": false,
     "start_time": "2020-08-24T06:52:53.960553",
     "status": "completed"
    },
    "tags": []
   },
   "outputs": [
    {
     "data": {
      "text/plain": [
       "(array([ 14.,   1.,   0.,   0.,   2.,   0.,   1.,   6.,  33., 132., 433.,\n",
       "        711., 523., 407., 269., 184., 110.,  53.,  45.,  27.,  16.,  13.,\n",
       "         10.,   2.,   1.,   4.,   1.,   0.,   0.,   1.,   0.,   0.,   0.,\n",
       "          0.,   0.,   0.,   0.,   0.,   0.,   1.]),\n",
       " array([0.        , 0.14083333, 0.28166667, 0.4225    , 0.56333333,\n",
       "        0.70416667, 0.845     , 0.98583333, 1.12666667, 1.2675    ,\n",
       "        1.40833333, 1.54916667, 1.69      , 1.83083333, 1.97166667,\n",
       "        2.1125    , 2.25333333, 2.39416667, 2.535     , 2.67583333,\n",
       "        2.81666667, 2.9575    , 3.09833333, 3.23916667, 3.38      ,\n",
       "        3.52083333, 3.66166667, 3.8025    , 3.94333333, 4.08416667,\n",
       "        4.225     , 4.36583333, 4.50666667, 4.6475    , 4.78833333,\n",
       "        4.92916667, 5.07      , 5.21083333, 5.35166667, 5.4925    ,\n",
       "        5.63333333]),\n",
       " <a list of 40 Patch objects>)"
      ]
     },
     "execution_count": 15,
     "metadata": {},
     "output_type": "execute_result"
    },
    {
     "data": {
      "text/plain": [
       "Text(0.5, 1.0, 'Distribution of length of film in hours')"
      ]
     },
     "execution_count": 15,
     "metadata": {},
     "output_type": "execute_result"
    },
    {
     "data": {
      "text/plain": [
       "Text(0.5, 0, 'Duration of Movie in Hours')"
      ]
     },
     "execution_count": 15,
     "metadata": {},
     "output_type": "execute_result"
    },
    {
     "data": {
      "text/plain": [
       "Text(0, 0.5, 'Number of Movies')"
      ]
     },
     "execution_count": 15,
     "metadata": {},
     "output_type": "execute_result"
    },
    {
     "data": {
      "image/png": "[encoded data removed]",
      "text/plain": [
       "<Figure size 432x288 with 1 Axes>"
      ]
     },
     "metadata": {},
     "output_type": "display_data"
    }
   ],
   "source": [
    "plt.hist(train['runtime'].fillna(0) / 60, bins=40);\n",
    "plt.title('Distribution of length of film in hours', fontsize=16, color='white');\n",
    "plt.xlabel('Duration of Movie in Hours')\n",
    "plt.ylabel('Number of Movies')"
   ]
  },
  {
   "cell_type": "code",
   "execution_count": 16,
   "metadata": {
    "execution": {
     "iopub.execute_input": "2020-08-24T06:52:54.309547Z",
     "iopub.status.busy": "2020-08-24T06:52:54.308589Z",
     "iopub.status.idle": "2020-08-24T06:52:54.329811Z",
     "shell.execute_reply": "2020-08-24T06:52:54.330328Z"
    },
    "papermill": {
     "duration": 0.043829,
     "end_time": "2020-08-24T06:52:54.330487",
     "exception": false,
     "start_time": "2020-08-24T06:52:54.286658",
     "status": "completed"
    },
    "tags": []
   },
   "outputs": [
    {
     "data": {
      "text/html": [
       "<style  type=\"text/css\" >\n",
       "#T_6f69cb94_e5d6_11ea_bf48_0242ac130202row0_col2,#T_6f69cb94_e5d6_11ea_bf48_0242ac130202row4_col3,#T_6f69cb94_e5d6_11ea_bf48_0242ac130202row6_col4{\n",
       "            background-color:  #004529;\n",
       "            color:  #f1f1f1;\n",
       "        }#T_6f69cb94_e5d6_11ea_bf48_0242ac130202row0_col3{\n",
       "            background-color:  #c9e99c;\n",
       "            color:  #000000;\n",
       "        }#T_6f69cb94_e5d6_11ea_bf48_0242ac130202row0_col4,#T_6f69cb94_e5d6_11ea_bf48_0242ac130202row7_col3,#T_6f69cb94_e5d6_11ea_bf48_0242ac130202row7_col4,#T_6f69cb94_e5d6_11ea_bf48_0242ac130202row9_col2{\n",
       "            background-color:  #ffffe5;\n",
       "            color:  #000000;\n",
       "        }#T_6f69cb94_e5d6_11ea_bf48_0242ac130202row1_col2{\n",
       "            background-color:  #b2df90;\n",
       "            color:  #000000;\n",
       "        }#T_6f69cb94_e5d6_11ea_bf48_0242ac130202row1_col3{\n",
       "            background-color:  #66bd70;\n",
       "            color:  #000000;\n",
       "        }#T_6f69cb94_e5d6_11ea_bf48_0242ac130202row1_col4{\n",
       "            background-color:  #7fc97c;\n",
       "            color:  #000000;\n",
       "        }#T_6f69cb94_e5d6_11ea_bf48_0242ac130202row2_col2{\n",
       "            background-color:  #eef9b3;\n",
       "            color:  #000000;\n",
       "        }#T_6f69cb94_e5d6_11ea_bf48_0242ac130202row2_col3{\n",
       "            background-color:  #e4f4ab;\n",
       "            color:  #000000;\n",
       "        }#T_6f69cb94_e5d6_11ea_bf48_0242ac130202row2_col4{\n",
       "            background-color:  #0b713b;\n",
       "            color:  #f1f1f1;\n",
       "        }#T_6f69cb94_e5d6_11ea_bf48_0242ac130202row3_col2{\n",
       "            background-color:  #f0f9b4;\n",
       "            color:  #000000;\n",
       "        }#T_6f69cb94_e5d6_11ea_bf48_0242ac130202row3_col3{\n",
       "            background-color:  #1a7d40;\n",
       "            color:  #f1f1f1;\n",
       "        }#T_6f69cb94_e5d6_11ea_bf48_0242ac130202row3_col4{\n",
       "            background-color:  #feffde;\n",
       "            color:  #000000;\n",
       "        }#T_6f69cb94_e5d6_11ea_bf48_0242ac130202row4_col2,#T_6f69cb94_e5d6_11ea_bf48_0242ac130202row5_col3{\n",
       "            background-color:  #f7fcbc;\n",
       "            color:  #000000;\n",
       "        }#T_6f69cb94_e5d6_11ea_bf48_0242ac130202row4_col4{\n",
       "            background-color:  #fafdc8;\n",
       "            color:  #000000;\n",
       "        }#T_6f69cb94_e5d6_11ea_bf48_0242ac130202row5_col2{\n",
       "            background-color:  #f8fcbd;\n",
       "            color:  #000000;\n",
       "        }#T_6f69cb94_e5d6_11ea_bf48_0242ac130202row5_col4{\n",
       "            background-color:  #f9fdc7;\n",
       "            color:  #000000;\n",
       "        }#T_6f69cb94_e5d6_11ea_bf48_0242ac130202row6_col2{\n",
       "            background-color:  #f8fcc0;\n",
       "            color:  #000000;\n",
       "        }#T_6f69cb94_e5d6_11ea_bf48_0242ac130202row6_col3{\n",
       "            background-color:  #dcf1a5;\n",
       "            color:  #000000;\n",
       "        }#T_6f69cb94_e5d6_11ea_bf48_0242ac130202row7_col2{\n",
       "            background-color:  #fafdcc;\n",
       "            color:  #000000;\n",
       "        }#T_6f69cb94_e5d6_11ea_bf48_0242ac130202row8_col2{\n",
       "            background-color:  #feffe1;\n",
       "            color:  #000000;\n",
       "        }#T_6f69cb94_e5d6_11ea_bf48_0242ac130202row8_col3{\n",
       "            background-color:  #fdfed9;\n",
       "            color:  #000000;\n",
       "        }#T_6f69cb94_e5d6_11ea_bf48_0242ac130202row8_col4{\n",
       "            background-color:  #fdfedb;\n",
       "            color:  #000000;\n",
       "        }#T_6f69cb94_e5d6_11ea_bf48_0242ac130202row9_col3{\n",
       "            background-color:  #e9f6af;\n",
       "            color:  #000000;\n",
       "        }#T_6f69cb94_e5d6_11ea_bf48_0242ac130202row9_col4{\n",
       "            background-color:  #9fd788;\n",
       "            color:  #000000;\n",
       "        }</style><table id=\"T_6f69cb94_e5d6_11ea_bf48_0242ac130202\" ><thead>    <tr>        <th class=\"blank level0\" ></th>        <th class=\"col_heading level0 col0\" >id</th>        <th class=\"col_heading level0 col1\" >title</th>        <th class=\"col_heading level0 col2\" >runtime</th>        <th class=\"col_heading level0 col3\" >budget</th>        <th class=\"col_heading level0 col4\" >revenue</th>    </tr></thead><tbody>\n",
       "                <tr>\n",
       "                        <th id=\"T_6f69cb94_e5d6_11ea_bf48_0242ac130202level0_row0\" class=\"row_heading level0 row0\" >1211</th>\n",
       "                        <td id=\"T_6f69cb94_e5d6_11ea_bf48_0242ac130202row0_col0\" class=\"data row0 col0\" >1212</td>\n",
       "                        <td id=\"T_6f69cb94_e5d6_11ea_bf48_0242ac130202row0_col1\" class=\"data row0 col1\" >Carlos</td>\n",
       "                        <td id=\"T_6f69cb94_e5d6_11ea_bf48_0242ac130202row0_col2\" class=\"data row0 col2\" >338.000000</td>\n",
       "                        <td id=\"T_6f69cb94_e5d6_11ea_bf48_0242ac130202row0_col3\" class=\"data row0 col3\" >18000000</td>\n",
       "                        <td id=\"T_6f69cb94_e5d6_11ea_bf48_0242ac130202row0_col4\" class=\"data row0 col4\" >871279</td>\n",
       "            </tr>\n",
       "            <tr>\n",
       "                        <th id=\"T_6f69cb94_e5d6_11ea_bf48_0242ac130202level0_row1\" class=\"row_heading level0 row1\" >1922</th>\n",
       "                        <td id=\"T_6f69cb94_e5d6_11ea_bf48_0242ac130202row1_col0\" class=\"data row1 col0\" >1923</td>\n",
       "                        <td id=\"T_6f69cb94_e5d6_11ea_bf48_0242ac130202row1_col1\" class=\"data row1 col1\" >Cleopatra</td>\n",
       "                        <td id=\"T_6f69cb94_e5d6_11ea_bf48_0242ac130202row1_col2\" class=\"data row1 col2\" >248.000000</td>\n",
       "                        <td id=\"T_6f69cb94_e5d6_11ea_bf48_0242ac130202row1_col3\" class=\"data row1 col3\" >31115000</td>\n",
       "                        <td id=\"T_6f69cb94_e5d6_11ea_bf48_0242ac130202row1_col4\" class=\"data row1 col4\" >71000000</td>\n",
       "            </tr>\n",
       "            <tr>\n",
       "                        <th id=\"T_6f69cb94_e5d6_11ea_bf48_0242ac130202level0_row2\" class=\"row_heading level0 row2\" >523</th>\n",
       "                        <td id=\"T_6f69cb94_e5d6_11ea_bf48_0242ac130202row2_col0\" class=\"data row2 col0\" >524</td>\n",
       "                        <td id=\"T_6f69cb94_e5d6_11ea_bf48_0242ac130202row2_col1\" class=\"data row2 col1\" >The Ten Commandments</td>\n",
       "                        <td id=\"T_6f69cb94_e5d6_11ea_bf48_0242ac130202row2_col2\" class=\"data row2 col2\" >220.000000</td>\n",
       "                        <td id=\"T_6f69cb94_e5d6_11ea_bf48_0242ac130202row2_col3\" class=\"data row2 col3\" >13000000</td>\n",
       "                        <td id=\"T_6f69cb94_e5d6_11ea_bf48_0242ac130202row2_col4\" class=\"data row2 col4\" >122700000</td>\n",
       "            </tr>\n",
       "            <tr>\n",
       "                        <th id=\"T_6f69cb94_e5d6_11ea_bf48_0242ac130202level0_row3\" class=\"row_heading level0 row3\" >1302</th>\n",
       "                        <td id=\"T_6f69cb94_e5d6_11ea_bf48_0242ac130202row3_col0\" class=\"data row3 col0\" >1303</td>\n",
       "                        <td id=\"T_6f69cb94_e5d6_11ea_bf48_0242ac130202row3_col1\" class=\"data row3 col1\" >Heaven's Gate</td>\n",
       "                        <td id=\"T_6f69cb94_e5d6_11ea_bf48_0242ac130202row3_col2\" class=\"data row3 col2\" >219.000000</td>\n",
       "                        <td id=\"T_6f69cb94_e5d6_11ea_bf48_0242ac130202row3_col3\" class=\"data row3 col3\" >44000000</td>\n",
       "                        <td id=\"T_6f69cb94_e5d6_11ea_bf48_0242ac130202row3_col4\" class=\"data row3 col4\" >3484331</td>\n",
       "            </tr>\n",
       "            <tr>\n",
       "                        <th id=\"T_6f69cb94_e5d6_11ea_bf48_0242ac130202level0_row4\" class=\"row_heading level0 row4\" >1914</th>\n",
       "                        <td id=\"T_6f69cb94_e5d6_11ea_bf48_0242ac130202row4_col0\" class=\"data row4 col0\" >1915</td>\n",
       "                        <td id=\"T_6f69cb94_e5d6_11ea_bf48_0242ac130202row4_col1\" class=\"data row4 col1\" >Gods and Generals</td>\n",
       "                        <td id=\"T_6f69cb94_e5d6_11ea_bf48_0242ac130202row4_col2\" class=\"data row4 col2\" >214.000000</td>\n",
       "                        <td id=\"T_6f69cb94_e5d6_11ea_bf48_0242ac130202row4_col3\" class=\"data row4 col3\" >56000000</td>\n",
       "                        <td id=\"T_6f69cb94_e5d6_11ea_bf48_0242ac130202row4_col4\" class=\"data row4 col4\" >12923936</td>\n",
       "            </tr>\n",
       "            <tr>\n",
       "                        <th id=\"T_6f69cb94_e5d6_11ea_bf48_0242ac130202level0_row5\" class=\"row_heading level0 row5\" >2353</th>\n",
       "                        <td id=\"T_6f69cb94_e5d6_11ea_bf48_0242ac130202row5_col0\" class=\"data row5 col0\" >2354</td>\n",
       "                        <td id=\"T_6f69cb94_e5d6_11ea_bf48_0242ac130202row5_col1\" class=\"data row5 col1\" >Jodhaa Akbar</td>\n",
       "                        <td id=\"T_6f69cb94_e5d6_11ea_bf48_0242ac130202row5_col2\" class=\"data row5 col2\" >213.000000</td>\n",
       "                        <td id=\"T_6f69cb94_e5d6_11ea_bf48_0242ac130202row5_col3\" class=\"data row5 col3\" >8376800</td>\n",
       "                        <td id=\"T_6f69cb94_e5d6_11ea_bf48_0242ac130202row5_col4\" class=\"data row5 col4\" >13000000</td>\n",
       "            </tr>\n",
       "            <tr>\n",
       "                        <th id=\"T_6f69cb94_e5d6_11ea_bf48_0242ac130202level0_row6\" class=\"row_heading level0 row6\" >625</th>\n",
       "                        <td id=\"T_6f69cb94_e5d6_11ea_bf48_0242ac130202row6_col0\" class=\"data row6 col0\" >626</td>\n",
       "                        <td id=\"T_6f69cb94_e5d6_11ea_bf48_0242ac130202row6_col1\" class=\"data row6 col1\" >Ben-Hur</td>\n",
       "                        <td id=\"T_6f69cb94_e5d6_11ea_bf48_0242ac130202row6_col2\" class=\"data row6 col2\" >212.000000</td>\n",
       "                        <td id=\"T_6f69cb94_e5d6_11ea_bf48_0242ac130202row6_col3\" class=\"data row6 col3\" >15000000</td>\n",
       "                        <td id=\"T_6f69cb94_e5d6_11ea_bf48_0242ac130202row6_col4\" class=\"data row6 col4\" >146900000</td>\n",
       "            </tr>\n",
       "            <tr>\n",
       "                        <th id=\"T_6f69cb94_e5d6_11ea_bf48_0242ac130202level0_row7\" class=\"row_heading level0 row7\" >1975</th>\n",
       "                        <td id=\"T_6f69cb94_e5d6_11ea_bf48_0242ac130202row7_col0\" class=\"data row7 col0\" >1976</td>\n",
       "                        <td id=\"T_6f69cb94_e5d6_11ea_bf48_0242ac130202row7_col1\" class=\"data row7 col1\" >Chapiteau-Show</td>\n",
       "                        <td id=\"T_6f69cb94_e5d6_11ea_bf48_0242ac130202row7_col2\" class=\"data row7 col2\" >207.000000</td>\n",
       "                        <td id=\"T_6f69cb94_e5d6_11ea_bf48_0242ac130202row7_col3\" class=\"data row7 col3\" >2000000</td>\n",
       "                        <td id=\"T_6f69cb94_e5d6_11ea_bf48_0242ac130202row7_col4\" class=\"data row7 col4\" >393816</td>\n",
       "            </tr>\n",
       "            <tr>\n",
       "                        <th id=\"T_6f69cb94_e5d6_11ea_bf48_0242ac130202level0_row8\" class=\"row_heading level0 row8\" >1731</th>\n",
       "                        <td id=\"T_6f69cb94_e5d6_11ea_bf48_0242ac130202row8_col0\" class=\"data row8 col0\" >1732</td>\n",
       "                        <td id=\"T_6f69cb94_e5d6_11ea_bf48_0242ac130202row8_col1\" class=\"data row8 col1\" >Hey Ram</td>\n",
       "                        <td id=\"T_6f69cb94_e5d6_11ea_bf48_0242ac130202row8_col2\" class=\"data row8 col2\" >199.000000</td>\n",
       "                        <td id=\"T_6f69cb94_e5d6_11ea_bf48_0242ac130202row8_col3\" class=\"data row8 col3\" >3900000</td>\n",
       "                        <td id=\"T_6f69cb94_e5d6_11ea_bf48_0242ac130202row8_col4\" class=\"data row8 col4\" >4900000</td>\n",
       "            </tr>\n",
       "            <tr>\n",
       "                        <th id=\"T_6f69cb94_e5d6_11ea_bf48_0242ac130202level0_row9\" class=\"row_heading level0 row9\" >2120</th>\n",
       "                        <td id=\"T_6f69cb94_e5d6_11ea_bf48_0242ac130202row9_col0\" class=\"data row9 col0\" >2121</td>\n",
       "                        <td id=\"T_6f69cb94_e5d6_11ea_bf48_0242ac130202row9_col1\" class=\"data row9 col1\" >Spartacus</td>\n",
       "                        <td id=\"T_6f69cb94_e5d6_11ea_bf48_0242ac130202row9_col2\" class=\"data row9 col2\" >197.000000</td>\n",
       "                        <td id=\"T_6f69cb94_e5d6_11ea_bf48_0242ac130202row9_col3\" class=\"data row9 col3\" >12000000</td>\n",
       "                        <td id=\"T_6f69cb94_e5d6_11ea_bf48_0242ac130202row9_col4\" class=\"data row9 col4\" >60000000</td>\n",
       "            </tr>\n",
       "    </tbody></table>"
      ],
      "text/plain": [
       "<pandas.io.formats.style.Styler at 0x7f32f6d81ed0>"
      ]
     },
     "execution_count": 16,
     "metadata": {},
     "output_type": "execute_result"
    }
   ],
   "source": [
    "train[['id','title','runtime', 'budget', 'revenue']].sort_values(['runtime'],ascending=False).head(10).style.background_gradient(subset=['runtime','budget','revenue'], cmap='YlGn')"
   ]
  },
  {
   "cell_type": "markdown",
   "execution_count": null,
   "metadata": {
    "papermill": {
     "duration": 0.014752,
     "end_time": "2020-08-24T06:52:54.360440",
     "exception": false,
     "start_time": "2020-08-24T06:52:54.345688",
     "status": "completed"
    },
    "tags": []
   },
   "source": [
    "## Carlos is the longest movie, with 338 minutes (5 hours and 38 minutes) of runtime. "
   ]
  },
  {
   "cell_type": "markdown",
   "execution_count": null,
   "metadata": {
    "papermill": {
     "duration": 0.014621,
     "end_time": "2020-08-24T06:52:54.389946",
     "exception": false,
     "start_time": "2020-08-24T06:52:54.375325",
     "status": "completed"
    },
    "tags": []
   },
   "source": [
    "## 4. In which year most movies were released?"
   ]
  },
  {
   "cell_type": "code",
   "execution_count": 17,
   "metadata": {
    "execution": {
     "iopub.execute_input": "2020-08-24T06:52:54.428643Z",
     "iopub.status.busy": "2020-08-24T06:52:54.426666Z",
     "iopub.status.idle": "2020-08-24T06:52:55.487177Z",
     "shell.execute_reply": "2020-08-24T06:52:55.486498Z"
    },
    "papermill": {
     "duration": 1.082434,
     "end_time": "2020-08-24T06:52:55.487291",
     "exception": false,
     "start_time": "2020-08-24T06:52:54.404857",
     "status": "completed"
    },
    "tags": []
   },
   "outputs": [
    {
     "data": {
      "text/plain": [
       "<Figure size 1440x864 with 0 Axes>"
      ]
     },
     "execution_count": 17,
     "metadata": {},
     "output_type": "execute_result"
    },
    {
     "data": {
      "text/plain": [
       "<matplotlib.axes._subplots.AxesSubplot at 0x7f32f4fc8450>"
      ]
     },
     "execution_count": 17,
     "metadata": {},
     "output_type": "execute_result"
    },
    {
     "data": {
      "text/plain": [
       "Text(0.5, 1.0, 'Movie Release count by Year')"
      ]
     },
     "execution_count": 17,
     "metadata": {},
     "output_type": "execute_result"
    },
    {
     "data": {
      "text/plain": [
       "Text(0.5, 0, 'Release Year')"
      ]
     },
     "execution_count": 17,
     "metadata": {},
     "output_type": "execute_result"
    },
    {
     "data": {
      "text/plain": [
       "Text(0, 0.5, 'Number of Movies Release')"
      ]
     },
     "execution_count": 17,
     "metadata": {},
     "output_type": "execute_result"
    },
    {
     "data": {
      "text/plain": [
       "(array([ 0,  1,  2,  3,  4,  5,  6,  7,  8,  9, 10, 11, 12, 13, 14, 15, 16,\n",
       "        17, 18, 19, 20, 21, 22, 23, 24, 25, 26, 27, 28, 29, 30, 31, 32, 33,\n",
       "        34, 35, 36, 37, 38, 39, 40, 41, 42, 43, 44, 45, 46, 47, 48, 49, 50,\n",
       "        51, 52, 53, 54, 55, 56, 57, 58, 59, 60, 61, 62, 63, 64, 65, 66, 67,\n",
       "        68, 69, 70, 71, 72, 73, 74, 75, 76, 77, 78, 79, 80, 81, 82, 83, 84,\n",
       "        85, 86, 87, 88, 89]),\n",
       " <a list of 90 Text major ticklabel objects>)"
      ]
     },
     "execution_count": 17,
     "metadata": {},
     "output_type": "execute_result"
    },
    {
     "data": {
      "image/png": "[encoded data removed]",
      "text/plain": [
       "<Figure size 1440x864 with 1 Axes>"
      ]
     },
     "metadata": {},
     "output_type": "display_data"
    }
   ],
   "source": [
    "plt.figure(figsize=(20,12))\n",
    "edgecolor=(0,0,0),\n",
    "sns.countplot(train['release_year'].sort_values(), palette = \"Dark2\", edgecolor=(0,0,0))\n",
    "plt.title(\"Movie Release count by Year\",fontsize=20)\n",
    "plt.xlabel('Release Year')\n",
    "plt.ylabel('Number of Movies Release')\n",
    "plt.xticks(fontsize=12,rotation=90)\n",
    "plt.show()"
   ]
  },
  {
   "cell_type": "code",
   "execution_count": 18,
   "metadata": {
    "execution": {
     "iopub.execute_input": "2020-08-24T06:52:55.539163Z",
     "iopub.status.busy": "2020-08-24T06:52:55.538203Z",
     "iopub.status.idle": "2020-08-24T06:52:55.544270Z",
     "shell.execute_reply": "2020-08-24T06:52:55.543561Z"
    },
    "papermill": {
     "duration": 0.037894,
     "end_time": "2020-08-24T06:52:55.544393",
     "exception": false,
     "start_time": "2020-08-24T06:52:55.506499",
     "status": "completed"
    },
    "tags": []
   },
   "outputs": [
    {
     "data": {
      "text/plain": [
       "2013    141\n",
       "2015    128\n",
       "2010    126\n",
       "2016    125\n",
       "2012    125\n",
       "Name: release_year, dtype: int64"
      ]
     },
     "execution_count": 18,
     "metadata": {},
     "output_type": "execute_result"
    }
   ],
   "source": [
    "train['release_year'].value_counts().head()"
   ]
  },
  {
   "cell_type": "markdown",
   "execution_count": null,
   "metadata": {
    "papermill": {
     "duration": 0.032224,
     "end_time": "2020-08-24T06:52:55.602949",
     "exception": false,
     "start_time": "2020-08-24T06:52:55.570725",
     "status": "completed"
    },
    "tags": []
   },
   "source": [
    "## In 2013 total 141 movies were released."
   ]
  },
  {
   "cell_type": "markdown",
   "execution_count": null,
   "metadata": {
    "papermill": {
     "duration": 0.028245,
     "end_time": "2020-08-24T06:52:55.661295",
     "exception": false,
     "start_time": "2020-08-24T06:52:55.633050",
     "status": "completed"
    },
    "tags": []
   },
   "source": [
    "## 5. Movies with Highest and Lowest ratings."
   ]
  },
  {
   "cell_type": "code",
   "execution_count": 19,
   "metadata": {
    "execution": {
     "iopub.execute_input": "2020-08-24T06:52:55.727414Z",
     "iopub.status.busy": "2020-08-24T06:52:55.726406Z",
     "iopub.status.idle": "2020-08-24T06:52:55.732072Z",
     "shell.execute_reply": "2020-08-24T06:52:55.731501Z"
    },
    "papermill": {
     "duration": 0.045211,
     "end_time": "2020-08-24T06:52:55.732196",
     "exception": false,
     "start_time": "2020-08-24T06:52:55.686985",
     "status": "completed"
    },
    "tags": []
   },
   "outputs": [
    {
     "data": {
      "text/html": [
       "<div>\n",
       "<style scoped>\n",
       "    .dataframe tbody tr th:only-of-type {\n",
       "        vertical-align: middle;\n",
       "    }\n",
       "\n",
       "    .dataframe tbody tr th {\n",
       "        vertical-align: top;\n",
       "    }\n",
       "\n",
       "    .dataframe thead th {\n",
       "        text-align: right;\n",
       "    }\n",
       "</style>\n",
       "<table border=\"1\" class=\"dataframe\">\n",
       "  <thead>\n",
       "    <tr style=\"text-align: right;\">\n",
       "      <th></th>\n",
       "      <th>original_title</th>\n",
       "      <th>popularity</th>\n",
       "      <th>release_date</th>\n",
       "      <th>revenue</th>\n",
       "    </tr>\n",
       "  </thead>\n",
       "  <tbody>\n",
       "    <tr>\n",
       "      <th>518</th>\n",
       "      <td>Wonder Woman</td>\n",
       "      <td>294.337037</td>\n",
       "      <td>2017-05-30</td>\n",
       "      <td>820580447</td>\n",
       "    </tr>\n",
       "  </tbody>\n",
       "</table>\n",
       "</div>"
      ],
      "text/plain": [
       "    original_title  popularity release_date    revenue\n",
       "518   Wonder Woman  294.337037   2017-05-30  820580447"
      ]
     },
     "execution_count": 19,
     "metadata": {},
     "output_type": "execute_result"
    }
   ],
   "source": [
    "train[train['popularity']==train['popularity'].max()][['original_title','popularity','release_date','revenue']]"
   ]
  },
  {
   "cell_type": "code",
   "execution_count": 20,
   "metadata": {
    "execution": {
     "iopub.execute_input": "2020-08-24T06:52:55.779609Z",
     "iopub.status.busy": "2020-08-24T06:52:55.778705Z",
     "iopub.status.idle": "2020-08-24T06:52:55.783359Z",
     "shell.execute_reply": "2020-08-24T06:52:55.782802Z"
    },
    "papermill": {
     "duration": 0.034383,
     "end_time": "2020-08-24T06:52:55.783474",
     "exception": false,
     "start_time": "2020-08-24T06:52:55.749091",
     "status": "completed"
    },
    "tags": []
   },
   "outputs": [
    {
     "data": {
      "text/html": [
       "<div>\n",
       "<style scoped>\n",
       "    .dataframe tbody tr th:only-of-type {\n",
       "        vertical-align: middle;\n",
       "    }\n",
       "\n",
       "    .dataframe tbody tr th {\n",
       "        vertical-align: top;\n",
       "    }\n",
       "\n",
       "    .dataframe thead th {\n",
       "        text-align: right;\n",
       "    }\n",
       "</style>\n",
       "<table border=\"1\" class=\"dataframe\">\n",
       "  <thead>\n",
       "    <tr style=\"text-align: right;\">\n",
       "      <th></th>\n",
       "      <th>original_title</th>\n",
       "      <th>popularity</th>\n",
       "      <th>release_date</th>\n",
       "      <th>revenue</th>\n",
       "    </tr>\n",
       "  </thead>\n",
       "  <tbody>\n",
       "    <tr>\n",
       "      <th>2556</th>\n",
       "      <td>Big Time</td>\n",
       "      <td>0.000001</td>\n",
       "      <td>1988-09-15</td>\n",
       "      <td>148426</td>\n",
       "    </tr>\n",
       "  </tbody>\n",
       "</table>\n",
       "</div>"
      ],
      "text/plain": [
       "     original_title  popularity release_date  revenue\n",
       "2556       Big Time    0.000001   1988-09-15   148426"
      ]
     },
     "execution_count": 20,
     "metadata": {},
     "output_type": "execute_result"
    }
   ],
   "source": [
    "train[train['popularity']==train['popularity'].min()][['original_title','popularity','release_date','revenue']]"
   ]
  },
  {
   "cell_type": "markdown",
   "execution_count": null,
   "metadata": {
    "papermill": {
     "duration": 0.016141,
     "end_time": "2020-08-24T06:52:55.816799",
     "exception": false,
     "start_time": "2020-08-24T06:52:55.800658",
     "status": "completed"
    },
    "tags": []
   },
   "source": [
    "Lets create popularity distribution plot."
   ]
  },
  {
   "cell_type": "code",
   "execution_count": 21,
   "metadata": {
    "execution": {
     "iopub.execute_input": "2020-08-24T06:52:55.860538Z",
     "iopub.status.busy": "2020-08-24T06:52:55.858096Z",
     "iopub.status.idle": "2020-08-24T06:52:56.255644Z",
     "shell.execute_reply": "2020-08-24T06:52:56.256173Z"
    },
    "papermill": {
     "duration": 0.423076,
     "end_time": "2020-08-24T06:52:56.256322",
     "exception": false,
     "start_time": "2020-08-24T06:52:55.833246",
     "status": "completed"
    },
    "tags": []
   },
   "outputs": [
    {
     "data": {
      "text/plain": [
       "<Figure size 1440x864 with 0 Axes>"
      ]
     },
     "execution_count": 21,
     "metadata": {},
     "output_type": "execute_result"
    },
    {
     "data": {
      "text/plain": [
       "<matplotlib.axes._subplots.AxesSubplot at 0x7f32f6b4bd10>"
      ]
     },
     "execution_count": 21,
     "metadata": {},
     "output_type": "execute_result"
    },
    {
     "data": {
      "text/plain": [
       "Text(0.5, 1.0, 'Movie Popularity Count')"
      ]
     },
     "execution_count": 21,
     "metadata": {},
     "output_type": "execute_result"
    },
    {
     "data": {
      "text/plain": [
       "Text(0.5, 0, 'Popularity')"
      ]
     },
     "execution_count": 21,
     "metadata": {},
     "output_type": "execute_result"
    },
    {
     "data": {
      "text/plain": [
       "Text(0, 0.5, 'Count')"
      ]
     },
     "execution_count": 21,
     "metadata": {},
     "output_type": "execute_result"
    },
    {
     "data": {
      "text/plain": [
       "(array([-50.,   0.,  50., 100., 150., 200., 250., 300., 350.]),\n",
       " <a list of 9 Text major ticklabel objects>)"
      ]
     },
     "execution_count": 21,
     "metadata": {},
     "output_type": "execute_result"
    },
    {
     "data": {
      "image/png": "[encoded data removed]",
      "text/plain": [
       "<Figure size 1440x864 with 1 Axes>"
      ]
     },
     "metadata": {},
     "output_type": "display_data"
    }
   ],
   "source": [
    "plt.figure(figsize=(20,12))\n",
    "edgecolor=(0,0,0),\n",
    "sns.distplot(train['popularity'], kde=False)\n",
    "plt.title(\"Movie Popularity Count\",fontsize=20)\n",
    "plt.xlabel('Popularity')\n",
    "plt.ylabel('Count')\n",
    "plt.xticks(fontsize=12,rotation=90)\n",
    "plt.show()"
   ]
  },
  {
   "cell_type": "markdown",
   "execution_count": null,
   "metadata": {
    "papermill": {
     "duration": 0.053774,
     "end_time": "2020-08-24T06:52:56.328233",
     "exception": false,
     "start_time": "2020-08-24T06:52:56.274459",
     "status": "completed"
    },
    "tags": []
   },
   "source": [
    "## Wonder Woman movie have highest popularity of 294.33 whereas Big Time movie have lowest popularity which is 0."
   ]
  },
  {
   "cell_type": "markdown",
   "execution_count": null,
   "metadata": {
    "papermill": {
     "duration": 0.017385,
     "end_time": "2020-08-24T06:52:56.363195",
     "exception": false,
     "start_time": "2020-08-24T06:52:56.345810",
     "status": "completed"
    },
    "tags": []
   },
   "source": [
    "## 6. In which month most movies are released from 1921 to 2017?"
   ]
  },
  {
   "cell_type": "code",
   "execution_count": 22,
   "metadata": {
    "execution": {
     "iopub.execute_input": "2020-08-24T06:52:56.408115Z",
     "iopub.status.busy": "2020-08-24T06:52:56.407410Z",
     "iopub.status.idle": "2020-08-24T06:52:56.712169Z",
     "shell.execute_reply": "2020-08-24T06:52:56.711586Z"
    },
    "papermill": {
     "duration": 0.331822,
     "end_time": "2020-08-24T06:52:56.712327",
     "exception": false,
     "start_time": "2020-08-24T06:52:56.380505",
     "status": "completed"
    },
    "tags": []
   },
   "outputs": [
    {
     "data": {
      "text/plain": [
       "<Figure size 1440x864 with 0 Axes>"
      ]
     },
     "execution_count": 22,
     "metadata": {},
     "output_type": "execute_result"
    },
    {
     "data": {
      "text/plain": [
       "<matplotlib.axes._subplots.AxesSubplot at 0x7f32f4d50450>"
      ]
     },
     "execution_count": 22,
     "metadata": {},
     "output_type": "execute_result"
    },
    {
     "data": {
      "text/plain": [
       "Text(0.5, 1.0, 'Movie Release count by Month')"
      ]
     },
     "execution_count": 22,
     "metadata": {},
     "output_type": "execute_result"
    },
    {
     "data": {
      "text/plain": [
       "Text(0.5, 0, 'Release Month')"
      ]
     },
     "execution_count": 22,
     "metadata": {},
     "output_type": "execute_result"
    },
    {
     "data": {
      "text/plain": [
       "Text(0, 0.5, 'Number of Movies Release')"
      ]
     },
     "execution_count": 22,
     "metadata": {},
     "output_type": "execute_result"
    },
    {
     "data": {
      "text/plain": [
       "(array([ 0,  1,  2,  3,  4,  5,  6,  7,  8,  9, 10, 11]),\n",
       " <a list of 12 Text major ticklabel objects>)"
      ]
     },
     "execution_count": 22,
     "metadata": {},
     "output_type": "execute_result"
    },
    {
     "data": {
      "image/png": "[encoded data removed]",
      "text/plain": [
       "<Figure size 1440x864 with 1 Axes>"
      ]
     },
     "metadata": {},
     "output_type": "display_data"
    }
   ],
   "source": [
    "plt.figure(figsize=(20,12))\n",
    "edgecolor=(0,0,0),\n",
    "sns.countplot(train['release_month'].sort_values(), palette = \"Dark2\", edgecolor=(0,0,0))\n",
    "plt.title(\"Movie Release count by Month\",fontsize=20)\n",
    "plt.xlabel('Release Month')\n",
    "plt.ylabel('Number of Movies Release')\n",
    "plt.xticks(fontsize=12)\n",
    "plt.show()"
   ]
  },
  {
   "cell_type": "code",
   "execution_count": 23,
   "metadata": {
    "execution": {
     "iopub.execute_input": "2020-08-24T06:52:56.760934Z",
     "iopub.status.busy": "2020-08-24T06:52:56.759900Z",
     "iopub.status.idle": "2020-08-24T06:52:56.768227Z",
     "shell.execute_reply": "2020-08-24T06:52:56.767514Z"
    },
    "papermill": {
     "duration": 0.036355,
     "end_time": "2020-08-24T06:52:56.768345",
     "exception": false,
     "start_time": "2020-08-24T06:52:56.731990",
     "status": "completed"
    },
    "tags": []
   },
   "outputs": [
    {
     "data": {
      "text/plain": [
       "9     362\n",
       "10    307\n",
       "12    263\n",
       "8     256\n",
       "4     245\n",
       "3     238\n",
       "6     237\n",
       "2     226\n",
       "5     224\n",
       "11    221\n",
       "1     212\n",
       "7     209\n",
       "Name: release_month, dtype: int64"
      ]
     },
     "execution_count": 23,
     "metadata": {},
     "output_type": "execute_result"
    }
   ],
   "source": [
    "train['release_month'].value_counts()"
   ]
  },
  {
   "cell_type": "markdown",
   "execution_count": null,
   "metadata": {
    "papermill": {
     "duration": 0.018743,
     "end_time": "2020-08-24T06:52:56.807148",
     "exception": false,
     "start_time": "2020-08-24T06:52:56.788405",
     "status": "completed"
    },
    "tags": []
   },
   "source": [
    "## In september month most movies are relesed which is around 362."
   ]
  },
  {
   "cell_type": "markdown",
   "execution_count": null,
   "metadata": {
    "papermill": {
     "duration": 0.018289,
     "end_time": "2020-08-24T06:52:56.873429",
     "exception": false,
     "start_time": "2020-08-24T06:52:56.855140",
     "status": "completed"
    },
    "tags": []
   },
   "source": [
    "## 7. On which date of month most movies are released?"
   ]
  },
  {
   "cell_type": "code",
   "execution_count": 24,
   "metadata": {
    "execution": {
     "iopub.execute_input": "2020-08-24T06:52:56.920173Z",
     "iopub.status.busy": "2020-08-24T06:52:56.919489Z",
     "iopub.status.idle": "2020-08-24T06:52:57.280121Z",
     "shell.execute_reply": "2020-08-24T06:52:57.279461Z"
    },
    "papermill": {
     "duration": 0.388545,
     "end_time": "2020-08-24T06:52:57.280234",
     "exception": false,
     "start_time": "2020-08-24T06:52:56.891689",
     "status": "completed"
    },
    "tags": []
   },
   "outputs": [
    {
     "data": {
      "text/plain": [
       "<Figure size 1440x864 with 0 Axes>"
      ]
     },
     "execution_count": 24,
     "metadata": {},
     "output_type": "execute_result"
    },
    {
     "data": {
      "text/plain": [
       "<matplotlib.axes._subplots.AxesSubplot at 0x7f32f4c96210>"
      ]
     },
     "execution_count": 24,
     "metadata": {},
     "output_type": "execute_result"
    },
    {
     "data": {
      "text/plain": [
       "Text(0.5, 1.0, 'Movie Release count by Day of Month')"
      ]
     },
     "execution_count": 24,
     "metadata": {},
     "output_type": "execute_result"
    },
    {
     "data": {
      "text/plain": [
       "Text(0.5, 0, 'Release Day')"
      ]
     },
     "execution_count": 24,
     "metadata": {},
     "output_type": "execute_result"
    },
    {
     "data": {
      "text/plain": [
       "Text(0, 0.5, 'Number of Movies Release')"
      ]
     },
     "execution_count": 24,
     "metadata": {},
     "output_type": "execute_result"
    },
    {
     "data": {
      "text/plain": [
       "(array([ 0,  1,  2,  3,  4,  5,  6,  7,  8,  9, 10, 11, 12, 13, 14, 15, 16,\n",
       "        17, 18, 19, 20, 21, 22, 23, 24, 25, 26, 27, 28, 29, 30]),\n",
       " <a list of 31 Text major ticklabel objects>)"
      ]
     },
     "execution_count": 24,
     "metadata": {},
     "output_type": "execute_result"
    },
    {
     "data": {
      "image/png": "[encoded data removed]",
      "text/plain": [
       "<Figure size 1440x864 with 1 Axes>"
      ]
     },
     "metadata": {},
     "output_type": "display_data"
    }
   ],
   "source": [
    "plt.figure(figsize=(20,12))\n",
    "edgecolor=(0,0,0),\n",
    "sns.countplot(train['release_day'].sort_values(), palette = \"Dark2\", edgecolor=(0,0,0))\n",
    "plt.title(\"Movie Release count by Day of Month\",fontsize=20)\n",
    "plt.xlabel('Release Day')\n",
    "plt.ylabel('Number of Movies Release')\n",
    "plt.xticks(fontsize=12)\n",
    "plt.show()"
   ]
  },
  {
   "cell_type": "code",
   "execution_count": 25,
   "metadata": {
    "execution": {
     "iopub.execute_input": "2020-08-24T06:52:57.328439Z",
     "iopub.status.busy": "2020-08-24T06:52:57.327633Z",
     "iopub.status.idle": "2020-08-24T06:52:57.333202Z",
     "shell.execute_reply": "2020-08-24T06:52:57.332610Z"
    },
    "papermill": {
     "duration": 0.033005,
     "end_time": "2020-08-24T06:52:57.333320",
     "exception": false,
     "start_time": "2020-08-24T06:52:57.300315",
     "status": "completed"
    },
    "tags": []
   },
   "outputs": [
    {
     "data": {
      "text/plain": [
       "1     152\n",
       "15    126\n",
       "12    122\n",
       "7     110\n",
       "6     107\n",
       "17    106\n",
       "16    106\n",
       "13    106\n",
       "25    106\n",
       "10    104\n",
       "9     104\n",
       "14    104\n",
       "22    102\n",
       "8     101\n",
       "21     99\n",
       "18     98\n",
       "24     97\n",
       "5      96\n",
       "2      94\n",
       "19     94\n",
       "11     93\n",
       "4      88\n",
       "20     87\n",
       "23     85\n",
       "26     82\n",
       "3      80\n",
       "30     75\n",
       "28     74\n",
       "27     74\n",
       "29     72\n",
       "31     56\n",
       "Name: release_day, dtype: int64"
      ]
     },
     "execution_count": 25,
     "metadata": {},
     "output_type": "execute_result"
    }
   ],
   "source": [
    "train['release_day'].value_counts()"
   ]
  },
  {
   "cell_type": "markdown",
   "execution_count": null,
   "metadata": {
    "papermill": {
     "duration": 0.01947,
     "end_time": "2020-08-24T06:52:57.372648",
     "exception": false,
     "start_time": "2020-08-24T06:52:57.353178",
     "status": "completed"
    },
    "tags": []
   },
   "source": [
    "## On first date highest number of movies are released, 152."
   ]
  },
  {
   "cell_type": "markdown",
   "execution_count": null,
   "metadata": {
    "papermill": {
     "duration": 0.01942,
     "end_time": "2020-08-24T06:52:57.411626",
     "exception": false,
     "start_time": "2020-08-24T06:52:57.392206",
     "status": "completed"
    },
    "tags": []
   },
   "source": [
    "## 8. On which day of week most movies are released?"
   ]
  },
  {
   "cell_type": "code",
   "execution_count": 26,
   "metadata": {
    "execution": {
     "iopub.execute_input": "2020-08-24T06:52:57.460077Z",
     "iopub.status.busy": "2020-08-24T06:52:57.458309Z",
     "iopub.status.idle": "2020-08-24T06:52:57.672912Z",
     "shell.execute_reply": "2020-08-24T06:52:57.672380Z"
    },
    "papermill": {
     "duration": 0.241723,
     "end_time": "2020-08-24T06:52:57.673053",
     "exception": false,
     "start_time": "2020-08-24T06:52:57.431330",
     "status": "completed"
    },
    "tags": []
   },
   "outputs": [
    {
     "data": {
      "text/plain": [
       "<Figure size 1440x864 with 0 Axes>"
      ]
     },
     "execution_count": 26,
     "metadata": {},
     "output_type": "execute_result"
    },
    {
     "data": {
      "text/plain": [
       "<matplotlib.axes._subplots.AxesSubplot at 0x7f32f4c10b50>"
      ]
     },
     "execution_count": 26,
     "metadata": {},
     "output_type": "execute_result"
    },
    {
     "data": {
      "text/plain": [
       "Text(0.5, 0, 'Release Day of Week')"
      ]
     },
     "execution_count": 26,
     "metadata": {},
     "output_type": "execute_result"
    },
    {
     "data": {
      "text/plain": [
       "Text(0, 0.5, 'Number of Movies Release')"
      ]
     },
     "execution_count": 26,
     "metadata": {},
     "output_type": "execute_result"
    },
    {
     "data": {
      "text/plain": [
       "([<matplotlib.axis.XTick at 0x7f32f4b41290>,\n",
       "  <matplotlib.axis.XTick at 0x7f32f4b41950>,\n",
       "  <matplotlib.axis.XTick at 0x7f32f4b41690>,\n",
       "  <matplotlib.axis.XTick at 0x7f32f4af7ad0>,\n",
       "  <matplotlib.axis.XTick at 0x7f32f4af7f50>,\n",
       "  <matplotlib.axis.XTick at 0x7f32f4b02510>,\n",
       "  <matplotlib.axis.XTick at 0x7f32f4b02a90>],\n",
       " [Text(0, 0, 'Mon'),\n",
       "  Text(0, 0, 'Tue'),\n",
       "  Text(0, 0, 'Wed'),\n",
       "  Text(0, 0, 'Thu'),\n",
       "  Text(0, 0, 'Fri'),\n",
       "  Text(0, 0, 'Sat'),\n",
       "  Text(0, 0, 'Sun')])"
      ]
     },
     "execution_count": 26,
     "metadata": {},
     "output_type": "execute_result"
    },
    {
     "data": {
      "image/png": "[encoded data removed]",
      "text/plain": [
       "<Figure size 1440x864 with 1 Axes>"
      ]
     },
     "metadata": {},
     "output_type": "display_data"
    }
   ],
   "source": [
    "plt.figure(figsize=(20,12))\n",
    "sns.countplot(train['release_weekday'].sort_values(), palette='Dark2')\n",
    "loc = np.array(range(len(train['release_weekday'].unique())))\n",
    "day_labels = ['Mon', 'Tue', 'Wed', 'Thu', 'Fri', 'Sat', 'Sun']\n",
    "plt.xlabel('Release Day of Week')\n",
    "plt.ylabel('Number of Movies Release')\n",
    "plt.xticks(loc, day_labels, fontsize=12)\n",
    "plt.show()"
   ]
  },
  {
   "cell_type": "code",
   "execution_count": 27,
   "metadata": {
    "execution": {
     "iopub.execute_input": "2020-08-24T06:52:57.721792Z",
     "iopub.status.busy": "2020-08-24T06:52:57.719089Z",
     "iopub.status.idle": "2020-08-24T06:52:57.726677Z",
     "shell.execute_reply": "2020-08-24T06:52:57.726137Z"
    },
    "papermill": {
     "duration": 0.033044,
     "end_time": "2020-08-24T06:52:57.726785",
     "exception": false,
     "start_time": "2020-08-24T06:52:57.693741",
     "status": "completed"
    },
    "tags": []
   },
   "outputs": [
    {
     "data": {
      "text/plain": [
       "4    1334\n",
       "3     609\n",
       "2     449\n",
       "1     196\n",
       "5     158\n",
       "0     135\n",
       "6     119\n",
       "Name: release_weekday, dtype: int64"
      ]
     },
     "execution_count": 27,
     "metadata": {},
     "output_type": "execute_result"
    }
   ],
   "source": [
    "train['release_weekday'].value_counts()"
   ]
  },
  {
   "cell_type": "markdown",
   "execution_count": null,
   "metadata": {
    "papermill": {
     "duration": 0.021187,
     "end_time": "2020-08-24T06:52:57.768877",
     "exception": false,
     "start_time": "2020-08-24T06:52:57.747690",
     "status": "completed"
    },
    "tags": []
   },
   "source": [
    "## Highest number of movies released on friday."
   ]
  },
  {
   "cell_type": "markdown",
   "execution_count": null,
   "metadata": {
    "papermill": {
     "duration": 0.020181,
     "end_time": "2020-08-24T06:52:57.809765",
     "exception": false,
     "start_time": "2020-08-24T06:52:57.789584",
     "status": "completed"
    },
    "tags": []
   },
   "source": [
    "### I am still Updating this notebook.\n",
    "\n",
    "### There is still a lot of question data to ask..\n",
    "\n",
    "\n",
    "I hope you liked my analysis and visualization.\n",
    "\n",
    "## <font color='blue'> Don't forget to upvote if you like it!. </font>\n",
    "\n",
    "If you have any doubt reagrding any part of the notebook, feel free to comment your doubt in the comment box.\n",
    "\n",
    "Thank you!!\n",
    "\n"
   ]
  },
  {
   "cell_type": "markdown",
   "execution_count": null,
   "metadata": {
    "papermill": {
     "duration": 0.020169,
     "end_time": "2020-08-24T06:52:57.850217",
     "exception": false,
     "start_time": "2020-08-24T06:52:57.830048",
     "status": "completed"
    },
    "tags": []
   },
   "source": [
    "# Work in Progress... ⏳"
   ]
  }
 ],
 "metadata": {
  "kernelspec": {
   "display_name": "Python 3",
   "language": "python",
   "name": "python3"
  },
  "language_info": {
   "codemirror_mode": {
    "name": "ipython",
    "version": 3
   },
   "file_extension": ".py",
   "mimetype": "text/x-python",
   "name": "python",
   "nbconvert_exporter": "python",
   "pygments_lexer": "ipython3",
   "version": "3.7.6"
  },
  "papermill": {
   "duration": 12.202419,
   "end_time": "2020-08-24T06:52:57.978216",
   "environment_variables": {},
   "exception": null,
   "input_path": "__notebook__.ipynb",
   "output_path": "__notebook__.ipynb",
   "parameters": {},
   "start_time": "2020-08-24T06:52:45.775797",
   "version": "2.1.0"
  }
 },
 "nbformat": 4,
 "nbformat_minor": 4
}
